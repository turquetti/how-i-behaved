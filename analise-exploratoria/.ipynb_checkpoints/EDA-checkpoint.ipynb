{
 "cells": [
  {
   "cell_type": "markdown",
   "id": "4c5f85c9-1953-4390-9664-877c9252f12e",
   "metadata": {},
   "source": [
    "## *Storytelling Case* - iFood\n",
    "### Candidatura à vaga de: *Business Data Analyst* \n",
    "\n",
    "**Pessoa candidata**: Gabriela N. Turquetti\n",
    "\n",
    "---"
   ]
  },
  {
   "cell_type": "markdown",
   "id": "c953214f-6a5c-45e0-92c8-f53cff22123f",
   "metadata": {},
   "source": [
    "\n",
    "Neste *notebook* apresento a minha história usando a minha rede social mais antiga: o twitter. Meu primeiro twieet foi em abril de 2009 e até hoje, muita coisa aconteceu! Será que conseguimos observar esses comportamentos olhando os *tweets*? Vamos descobrir!\n",
    "\n",
    "\n",
    "Para mais informações sobre o projeto, acesse o meu [repositório](https://github.com/turquetti/storytelling-case-ifood) no GitHub. E para visualizar de dados no Tableau, clique [aqui](https://public.tableau.com/app/profile/gabriela.nunes.turquetti/viz/case-ifood-business-data-analyst/2009-2021).\n",
    "\n",
    "---\n",
    "\n"
   ]
  },
  {
   "cell_type": "markdown",
   "id": "0b36d25a-318c-4df1-b2c0-4fb8b10a4739",
   "metadata": {},
   "source": [
    "A **análise exploratória** deste *notebook* está estruturada da seguinte forma:\n",
    "\n",
    "- [Requisitos](#Requisitos)\n",
    "- [Bibliotecas](#Bibliotecas)\n",
    "- [Tratamento das bases de dados](#Tratamento-das-bases-de-dados)\n",
    "    - [Twitter Scrapping](#Twitter-Scrapping)\n",
    "        - [twitter: Período de 2009 a 2013](#Twitter:-Período-de-2009-a-2013)\n",
    "        - [twitter: Período de 2013 a 2019](#Twitter:-Período-de-2013-a-2019)\n",
    "        - [twitter: Período de 2020 a 2021](#Twitter:-Período-de-2020-a-2021)\n",
    "        - [extração de dados do Last.fm e YouTube](#Extração-de-informações-do-Last.fm-e-YouTube-dos-tweets)\n",
    "    - [Processamento de Linguagem Natural dos Tweets](#Processamento-de-Linguagem-Natural-dos-Tweets)\n",
    "    - [YouTube](#YouTube)\n",
    "    - [Spotify](#Spotify)\n",
    "\n",
    "\n",
    "- [Análise Exploratória dos Dados](#Análise-Exploratória-dos-Dados)\n",
    "    - [AED: Período de 2009 a 2013](#AED:-Período-de-2009-a-2013)\n",
    "    - [AED: Período de 2013 a 2019](#AED:-Período-de-2013-a-2019)\n",
    "    - [AED: Período de 2020 a 2021](#AED:-Período-de-2020-a-2021)\n"
   ]
  },
  {
   "cell_type": "markdown",
   "id": "9ca0fbae-2378-4f75-bbbe-c0d20527ac4d",
   "metadata": {},
   "source": [
    "# Requisitos"
   ]
  },
  {
   "cell_type": "markdown",
   "id": "15848431-a2e7-4243-b1b4-21de462067f7",
   "metadata": {},
   "source": [
    "Para usar esse *notebook*, é necessário instalar as seguintes bibliotecas:"
   ]
  },
  {
   "cell_type": "code",
   "execution_count": 163,
   "id": "abe6ae91-4a9a-4fbd-bad2-92358eb08159",
   "metadata": {
    "collapsed": true,
    "jupyter": {
     "outputs_hidden": true
    },
    "tags": []
   },
   "outputs": [
    {
     "name": "stdout",
     "output_type": "stream",
     "text": [
      "Requirement already satisfied: selenium in /usr/local/anaconda3/lib/python3.8/site-packages (3.141.0)\n",
      "Requirement already satisfied: urllib3 in /usr/local/anaconda3/lib/python3.8/site-packages (from selenium) (1.26.4)\n",
      "Requirement already satisfied: tzlocal in /usr/local/anaconda3/lib/python3.8/site-packages (2.1)\n",
      "Requirement already satisfied: pytz in /usr/local/anaconda3/lib/python3.8/site-packages (from tzlocal) (2021.1)\n",
      "Requirement already satisfied: nltk in /usr/local/anaconda3/lib/python3.8/site-packages (3.6.1)\n",
      "Requirement already satisfied: tqdm in /usr/local/anaconda3/lib/python3.8/site-packages (from nltk) (4.59.0)\n",
      "Requirement already satisfied: joblib in /usr/local/anaconda3/lib/python3.8/site-packages (from nltk) (1.0.1)\n",
      "Requirement already satisfied: regex in /usr/local/anaconda3/lib/python3.8/site-packages (from nltk) (2021.4.4)\n",
      "Requirement already satisfied: click in /usr/local/anaconda3/lib/python3.8/site-packages (from nltk) (7.1.2)\n",
      "Collecting texthero\n",
      "  Using cached texthero-1.1.0-py3-none-any.whl (24 kB)\n",
      "Collecting unidecode>=1.1.1\n",
      "  Downloading Unidecode-1.2.0-py2.py3-none-any.whl (241 kB)\n",
      "\u001b[K     |████████████████████████████████| 241 kB 1.5 MB/s eta 0:00:01\n",
      "\u001b[?25hCollecting plotly>=4.2.0\n",
      "  Using cached plotly-5.1.0-py2.py3-none-any.whl (20.6 MB)\n",
      "Collecting gensim<4.0,>=3.6.0\n",
      "  Downloading gensim-3.8.3-cp38-cp38-macosx_10_9_x86_64.whl (24.2 MB)\n",
      "\u001b[K     |████████████████████████████████| 24.2 MB 7.0 MB/s eta 0:00:011     |████████████████                | 12.0 MB 13.9 MB/s eta 0:00:01     |██████████████████████▍         | 16.9 MB 14.6 MB/s eta 0:00:01\n",
      "\u001b[?25hRequirement already satisfied: nltk>=3.3 in /usr/local/anaconda3/lib/python3.8/site-packages (from texthero) (3.6.1)\n",
      "Collecting wordcloud>=1.5.0\n",
      "  Using cached wordcloud-1.8.1.tar.gz (220 kB)\n",
      "Requirement already satisfied: matplotlib>=3.1.0 in /usr/local/anaconda3/lib/python3.8/site-packages (from texthero) (3.3.4)\n",
      "Collecting spacy<3.0.0\n",
      "  Downloading spacy-2.3.7-cp38-cp38-macosx_10_9_x86_64.whl (10.3 MB)\n",
      "\u001b[K     |████████████████████████████████| 10.3 MB 7.9 MB/s eta 0:00:01\n",
      "\u001b[?25hRequirement already satisfied: tqdm>=4.3 in /usr/local/anaconda3/lib/python3.8/site-packages (from texthero) (4.59.0)\n",
      "Requirement already satisfied: pandas>=1.0.2 in /usr/local/anaconda3/lib/python3.8/site-packages (from texthero) (1.2.4)\n",
      "Requirement already satisfied: numpy>=1.17 in /usr/local/anaconda3/lib/python3.8/site-packages (from texthero) (1.20.1)\n",
      "Requirement already satisfied: scikit-learn>=0.22 in /usr/local/anaconda3/lib/python3.8/site-packages (from texthero) (0.24.1)\n",
      "Collecting smart-open>=1.8.1\n",
      "  Downloading smart_open-5.1.0-py3-none-any.whl (57 kB)\n",
      "\u001b[K     |████████████████████████████████| 57 kB 3.4 MB/s eta 0:00:01\n",
      "\u001b[?25hRequirement already satisfied: scipy>=0.18.1 in /usr/local/anaconda3/lib/python3.8/site-packages (from gensim<4.0,>=3.6.0->texthero) (1.6.2)\n",
      "Requirement already satisfied: six>=1.5.0 in /usr/local/anaconda3/lib/python3.8/site-packages (from gensim<4.0,>=3.6.0->texthero) (1.15.0)\n",
      "Requirement already satisfied: kiwisolver>=1.0.1 in /usr/local/anaconda3/lib/python3.8/site-packages (from matplotlib>=3.1.0->texthero) (1.3.1)\n",
      "Requirement already satisfied: cycler>=0.10 in /usr/local/anaconda3/lib/python3.8/site-packages (from matplotlib>=3.1.0->texthero) (0.10.0)\n",
      "Requirement already satisfied: pillow>=6.2.0 in /usr/local/anaconda3/lib/python3.8/site-packages (from matplotlib>=3.1.0->texthero) (8.2.0)\n",
      "Requirement already satisfied: pyparsing!=2.0.4,!=2.1.2,!=2.1.6,>=2.0.3 in /usr/local/anaconda3/lib/python3.8/site-packages (from matplotlib>=3.1.0->texthero) (2.4.7)\n",
      "Requirement already satisfied: python-dateutil>=2.1 in /usr/local/anaconda3/lib/python3.8/site-packages (from matplotlib>=3.1.0->texthero) (2.8.1)\n",
      "Requirement already satisfied: joblib in /usr/local/anaconda3/lib/python3.8/site-packages (from nltk>=3.3->texthero) (1.0.1)\n",
      "Requirement already satisfied: click in /usr/local/anaconda3/lib/python3.8/site-packages (from nltk>=3.3->texthero) (7.1.2)\n",
      "Requirement already satisfied: regex in /usr/local/anaconda3/lib/python3.8/site-packages (from nltk>=3.3->texthero) (2021.4.4)\n",
      "Requirement already satisfied: pytz>=2017.3 in /usr/local/anaconda3/lib/python3.8/site-packages (from pandas>=1.0.2->texthero) (2021.1)\n",
      "Collecting tenacity>=6.2.0\n",
      "  Downloading tenacity-8.0.1-py3-none-any.whl (24 kB)\n",
      "Requirement already satisfied: threadpoolctl>=2.0.0 in /usr/local/anaconda3/lib/python3.8/site-packages (from scikit-learn>=0.22->texthero) (2.1.0)\n",
      "Collecting plac<1.2.0,>=0.9.6\n",
      "  Downloading plac-1.1.3-py2.py3-none-any.whl (20 kB)\n",
      "Collecting blis<0.8.0,>=0.4.0\n",
      "  Downloading blis-0.7.4-cp38-cp38-macosx_10_9_x86_64.whl (5.8 MB)\n",
      "\u001b[K     |████████████████████████████████| 5.8 MB 6.1 MB/s eta 0:00:01     |██████████████████████████████  | 5.4 MB 6.1 MB/s eta 0:00:01\n",
      "\u001b[?25hCollecting catalogue<1.1.0,>=0.0.7\n",
      "  Downloading catalogue-1.0.0-py2.py3-none-any.whl (7.7 kB)\n",
      "Collecting preshed<3.1.0,>=3.0.2\n",
      "  Downloading preshed-3.0.5-cp38-cp38-macosx_10_9_x86_64.whl (105 kB)\n",
      "\u001b[K     |████████████████████████████████| 105 kB 6.1 MB/s eta 0:00:01\n",
      "\u001b[?25hCollecting thinc<7.5.0,>=7.4.1\n",
      "  Downloading thinc-7.4.5-cp38-cp38-macosx_10_9_x86_64.whl (982 kB)\n",
      "\u001b[K     |████████████████████████████████| 982 kB 14.8 MB/s eta 0:00:01\n",
      "\u001b[?25hCollecting cymem<2.1.0,>=2.0.2\n",
      "  Downloading cymem-2.0.5-cp38-cp38-macosx_10_9_x86_64.whl (31 kB)\n",
      "Collecting srsly<1.1.0,>=1.0.2\n",
      "  Downloading srsly-1.0.5-cp38-cp38-macosx_10_9_x86_64.whl (177 kB)\n",
      "\u001b[K     |████████████████████████████████| 177 kB 5.3 MB/s eta 0:00:01\n",
      "\u001b[?25hRequirement already satisfied: setuptools in /usr/local/anaconda3/lib/python3.8/site-packages (from spacy<3.0.0->texthero) (52.0.0.post20210125)\n",
      "Collecting wasabi<1.1.0,>=0.4.0\n",
      "  Downloading wasabi-0.8.2-py3-none-any.whl (23 kB)\n",
      "Collecting murmurhash<1.1.0,>=0.28.0\n",
      "  Downloading murmurhash-1.0.5-cp38-cp38-macosx_10_9_x86_64.whl (18 kB)\n",
      "Requirement already satisfied: requests<3.0.0,>=2.13.0 in /usr/local/anaconda3/lib/python3.8/site-packages (from spacy<3.0.0->texthero) (2.25.1)\n",
      "Requirement already satisfied: idna<3,>=2.5 in /usr/local/anaconda3/lib/python3.8/site-packages (from requests<3.0.0,>=2.13.0->spacy<3.0.0->texthero) (2.10)\n",
      "Requirement already satisfied: certifi>=2017.4.17 in /usr/local/anaconda3/lib/python3.8/site-packages (from requests<3.0.0,>=2.13.0->spacy<3.0.0->texthero) (2020.12.5)\n",
      "Requirement already satisfied: chardet<5,>=3.0.2 in /usr/local/anaconda3/lib/python3.8/site-packages (from requests<3.0.0,>=2.13.0->spacy<3.0.0->texthero) (4.0.0)\n",
      "Requirement already satisfied: urllib3<1.27,>=1.21.1 in /usr/local/anaconda3/lib/python3.8/site-packages (from requests<3.0.0,>=2.13.0->spacy<3.0.0->texthero) (1.26.4)\n",
      "Building wheels for collected packages: wordcloud\n",
      "  Building wheel for wordcloud (setup.py) ... \u001b[?25ldone\n",
      "\u001b[?25h  Created wheel for wordcloud: filename=wordcloud-1.8.1-cp38-cp38-macosx_10_9_x86_64.whl size=158034 sha256=9f69c896c66af072eb72ef54eab69f56d3adbcc82a377101b1ec92ae57902373\n",
      "  Stored in directory: /Users/gabrielaturquetti/Library/Caches/pip/wheels/4d/3f/0d/a2ba9b7895c9f1be89018b3141c3df3d4f9c786c882ccfbc3b\n",
      "Successfully built wordcloud\n",
      "Installing collected packages: murmurhash, cymem, wasabi, srsly, preshed, plac, catalogue, blis, thinc, tenacity, smart-open, wordcloud, unidecode, spacy, plotly, gensim, texthero\n",
      "Successfully installed blis-0.7.4 catalogue-1.0.0 cymem-2.0.5 gensim-3.8.3 murmurhash-1.0.5 plac-1.1.3 plotly-5.1.0 preshed-3.0.5 smart-open-5.1.0 spacy-2.3.7 srsly-1.0.5 tenacity-8.0.1 texthero-1.1.0 thinc-7.4.5 unidecode-1.2.0 wasabi-0.8.2 wordcloud-1.8.1\n",
      "Requirement already satisfied: google-api-python-client in /usr/local/anaconda3/lib/python3.8/site-packages (2.15.0)\n",
      "Requirement already satisfied: uritemplate<4dev,>=3.0.0 in /usr/local/anaconda3/lib/python3.8/site-packages (from google-api-python-client) (3.0.1)\n",
      "Requirement already satisfied: google-auth-httplib2>=0.1.0 in /usr/local/anaconda3/lib/python3.8/site-packages (from google-api-python-client) (0.1.0)\n",
      "Requirement already satisfied: httplib2<1dev,>=0.15.0 in /usr/local/anaconda3/lib/python3.8/site-packages (from google-api-python-client) (0.19.1)\n",
      "Requirement already satisfied: google-api-core<3.0.0dev,>=1.21.0 in /usr/local/anaconda3/lib/python3.8/site-packages (from google-api-python-client) (1.31.1)\n",
      "Requirement already satisfied: google-auth<3.0.0dev,>=1.16.0 in /usr/local/anaconda3/lib/python3.8/site-packages (from google-api-python-client) (1.34.0)\n",
      "Requirement already satisfied: googleapis-common-protos<2.0dev,>=1.6.0 in /usr/local/anaconda3/lib/python3.8/site-packages (from google-api-core<3.0.0dev,>=1.21.0->google-api-python-client) (1.53.0)\n",
      "Requirement already satisfied: packaging>=14.3 in /usr/local/anaconda3/lib/python3.8/site-packages (from google-api-core<3.0.0dev,>=1.21.0->google-api-python-client) (20.9)\n",
      "Requirement already satisfied: setuptools>=40.3.0 in /usr/local/anaconda3/lib/python3.8/site-packages (from google-api-core<3.0.0dev,>=1.21.0->google-api-python-client) (52.0.0.post20210125)\n",
      "Requirement already satisfied: protobuf>=3.12.0 in /usr/local/anaconda3/lib/python3.8/site-packages (from google-api-core<3.0.0dev,>=1.21.0->google-api-python-client) (3.17.3)\n",
      "Requirement already satisfied: pytz in /usr/local/anaconda3/lib/python3.8/site-packages (from google-api-core<3.0.0dev,>=1.21.0->google-api-python-client) (2021.1)\n",
      "Requirement already satisfied: requests<3.0.0dev,>=2.18.0 in /usr/local/anaconda3/lib/python3.8/site-packages (from google-api-core<3.0.0dev,>=1.21.0->google-api-python-client) (2.25.1)\n",
      "Requirement already satisfied: six>=1.13.0 in /usr/local/anaconda3/lib/python3.8/site-packages (from google-api-core<3.0.0dev,>=1.21.0->google-api-python-client) (1.15.0)\n",
      "Requirement already satisfied: rsa<5,>=3.1.4 in /usr/local/anaconda3/lib/python3.8/site-packages (from google-auth<3.0.0dev,>=1.16.0->google-api-python-client) (4.7.2)\n",
      "Requirement already satisfied: pyasn1-modules>=0.2.1 in /usr/local/anaconda3/lib/python3.8/site-packages (from google-auth<3.0.0dev,>=1.16.0->google-api-python-client) (0.2.8)\n",
      "Requirement already satisfied: cachetools<5.0,>=2.0.0 in /usr/local/anaconda3/lib/python3.8/site-packages (from google-auth<3.0.0dev,>=1.16.0->google-api-python-client) (4.2.2)\n",
      "Requirement already satisfied: pyparsing<3,>=2.4.2 in /usr/local/anaconda3/lib/python3.8/site-packages (from httplib2<1dev,>=0.15.0->google-api-python-client) (2.4.7)\n",
      "Requirement already satisfied: pyasn1<0.5.0,>=0.4.6 in /usr/local/anaconda3/lib/python3.8/site-packages (from pyasn1-modules>=0.2.1->google-auth<3.0.0dev,>=1.16.0->google-api-python-client) (0.4.8)\n",
      "Requirement already satisfied: idna<3,>=2.5 in /usr/local/anaconda3/lib/python3.8/site-packages (from requests<3.0.0dev,>=2.18.0->google-api-core<3.0.0dev,>=1.21.0->google-api-python-client) (2.10)\n",
      "Requirement already satisfied: urllib3<1.27,>=1.21.1 in /usr/local/anaconda3/lib/python3.8/site-packages (from requests<3.0.0dev,>=2.18.0->google-api-core<3.0.0dev,>=1.21.0->google-api-python-client) (1.26.4)\n",
      "Requirement already satisfied: certifi>=2017.4.17 in /usr/local/anaconda3/lib/python3.8/site-packages (from requests<3.0.0dev,>=2.18.0->google-api-core<3.0.0dev,>=1.21.0->google-api-python-client) (2020.12.5)\n",
      "Requirement already satisfied: chardet<5,>=3.0.2 in /usr/local/anaconda3/lib/python3.8/site-packages (from requests<3.0.0dev,>=2.18.0->google-api-core<3.0.0dev,>=1.21.0->google-api-python-client) (4.0.0)\n"
     ]
    }
   ],
   "source": [
    "!pip install selenium\n",
    "!pip install tzlocal\n",
    "!pip install texthero\n",
    "!pip install --upgrade google-api-python-client"
   ]
  },
  {
   "cell_type": "markdown",
   "id": "a14c9a97-1765-4f12-83ec-fccca07fc1bf",
   "metadata": {
    "tags": []
   },
   "source": [
    "Além das bibliotecas acima, é necessário instalar o [Chrome Driver](https://chromedriver.chromium.org/downloads),  que irá ser fundamental para a raspagem de dados do *twitter*."
   ]
  },
  {
   "cell_type": "markdown",
   "id": "cc64f79e-9ab8-41b4-bd8d-9b86a941cc43",
   "metadata": {},
   "source": [
    "## Bibliotecas"
   ]
  },
  {
   "cell_type": "markdown",
   "id": "dcccc0a7-623a-4525-8721-49ba4c995bb0",
   "metadata": {},
   "source": [
    "Durante o desenvolvimento da **análise exploratória**, iremos precisar das seguintes bibliotecas:"
   ]
  },
  {
   "cell_type": "code",
   "execution_count": 672,
   "id": "03a14efe-f78f-4faf-ad4b-e1fbf6f61693",
   "metadata": {},
   "outputs": [],
   "source": [
    "import re\n",
    "import csv\n",
    "import pytz\n",
    "import time\n",
    "import pandas as pd\n",
    "from time import sleep\n",
    "import texthero as hero\n",
    "from getpass import getpass\n",
    "from texthero import stopwords\n",
    "from selenium import webdriver\n",
    "import matplotlib.pyplot as plt\n",
    "from selenium.webdriver import Chrome\n",
    "from googleapiclient.discovery import build\n",
    "from selenium.webdriver.common.keys import Keys\n",
    "from selenium.common.exceptions import NoSuchElementException"
   ]
  },
  {
   "cell_type": "markdown",
   "id": "123a6892-cfc5-433b-ba23-5166cf5642d2",
   "metadata": {},
   "source": [
    "# Tratamento das bases de dados"
   ]
  },
  {
   "cell_type": "markdown",
   "id": "820ceed7-2ec7-4c60-ad73-1cde07cb561b",
   "metadata": {
    "tags": []
   },
   "source": [
    "## *Twitter Scrapping*"
   ]
  },
  {
   "cell_type": "markdown",
   "id": "7597b746-406c-4e81-8e1a-759e0b64e101",
   "metadata": {},
   "source": [
    "Buscando entender o meu uso e comportamento no twitter de 2009 até 2021, iremos fazer um *scrapping* de *tweets* desse período utilizando a biblioteca `selenium`. \n",
    "\n",
    "Para realizar o *scrapping* dos dados, fizemos requisições a cada 6 meses para os anos de 2009 a 2012 (devido ao grande volume de dados), e outras duas requisições de 2013-2018 e 2018-2021."
   ]
  },
  {
   "cell_type": "code",
   "execution_count": 54,
   "id": "897e07dc-c5e9-4582-b22d-ba800010ce09",
   "metadata": {
    "tags": []
   },
   "outputs": [],
   "source": [
    "# configurando o path do webdriver\n",
    "driver = webdriver.Chrome('insira-o-caminho-do-webdriver-aqui')"
   ]
  },
  {
   "cell_type": "code",
   "execution_count": 60,
   "id": "39a6b1d6-75a4-4520-b12a-e029b82e5fce",
   "metadata": {},
   "outputs": [],
   "source": [
    "# requisitando a página que irei realizar a raspagem\n",
    "driver.get('https://twitter.com/search?q=from%3Agabturquetti%20since%3A2009-04-01%20until%3A2009-07-01&src=typed_query&f=live')"
   ]
  },
  {
   "cell_type": "code",
   "execution_count": 518,
   "id": "12c6cad4-516c-47d8-8b5d-ef610f6861b1",
   "metadata": {},
   "outputs": [],
   "source": [
    "# função para procurar os tweets e suas informações (nome, @ e tweet)\n",
    "def get_tweet_data(card):\n",
    "    username = card.find_element_by_xpath('./div[2]/div[1]//span').text\n",
    "    handle = card.find_element_by_xpath('.//span[contains(text(), \"@\")]').text\n",
    "    \n",
    "    try:\n",
    "        date = card.find_element_by_xpath('.//time').get_attribute('datetime')\n",
    "        \n",
    "    except NoSuchElementException:\n",
    "        return \n",
    "    \n",
    "    comment = card.find_element_by_xpath('.//div[2]/div[2]/div[1]').text\n",
    "    responding = card.find_element_by_xpath('.//div[2]/div[2]/div[2]').text\n",
    "    text = comment + responding\n",
    "    \n",
    "    tweet = (username, handle, date, text)\n",
    "    \n",
    "    return tweet"
   ]
  },
  {
   "cell_type": "code",
   "execution_count": 62,
   "id": "9191af3d-1eba-42bb-a891-94121ad88538",
   "metadata": {},
   "outputs": [],
   "source": [
    "# controle do scrolling automático das páginas\n",
    "tweet_data = []\n",
    "last_position = driver.execute_script(\"return window.pageYOffset;\")\n",
    "scrolling = True\n",
    "\n",
    "while scrolling:\n",
    "    page_cards = driver.find_elements_by_xpath('//div[@data-testid=\"tweet\"]')\n",
    "    \n",
    "    for card in page_cards:\n",
    "        data = get_tweet_data(card)\n",
    "        if data:\n",
    "            tweet_data.append(data)\n",
    "    \n",
    "    scroll_attempt = 0 \n",
    "    while True:\n",
    "        driver.execute_script('window.scrollTo(0, document.body.scrollHeight);')\n",
    "        sleep(5)\n",
    "        curr_position = driver.execute_script(\"return window.pageYOffset;\")\n",
    "        \n",
    "        if last_position == curr_position:\n",
    "            scroll_attempt += 1\n",
    "            \n",
    "            if scroll_attempt >= 3:\n",
    "                scrolling = False\n",
    "                break\n",
    "            else:\n",
    "                sleep(7)\n",
    "        else:\n",
    "            last_position = curr_position\n",
    "            break"
   ]
  },
  {
   "cell_type": "code",
   "execution_count": 64,
   "id": "f23142a1-0be9-487b-b841-be944643ac82",
   "metadata": {},
   "outputs": [],
   "source": [
    "# transformando as informações extraídas em um dataframe e exportando para csv.\n",
    "df = pd.DataFrame(tweet_data)\n",
    "df.to_csv(\"/Users/gabrielaturquetti/Desktop/processo-ifood/04_a_07_2009.csv\", sep=',')"
   ]
  },
  {
   "cell_type": "markdown",
   "id": "57648cbb-487e-488c-85d7-7900eaf586f1",
   "metadata": {},
   "source": [
    "##### Agora, com o *scrapping* feito, vamos começar a tratar os dados extraídos removendo todos os *replies* ou respostas dos dados."
   ]
  },
  {
   "cell_type": "markdown",
   "id": "c4270778-00b5-4647-a83a-76de8b8865f8",
   "metadata": {},
   "source": [
    "### Twitter: Período de 2009 a 2013"
   ]
  },
  {
   "cell_type": "code",
   "execution_count": 673,
   "id": "9f6a17b8-8c04-4678-9f2b-8c48df6d7c32",
   "metadata": {},
   "outputs": [],
   "source": [
    "#importando arquivos\n",
    "df_2012_2 = pd.read_csv('Desktop/processo-ifood/case-ifood/tt-scrapping/05_2013_a_06_2012.csv')\n",
    "df_2012_1 = pd.read_csv('Desktop/processo-ifood/case-ifood/tt-scrapping/01_a_06_2012.csv')\n",
    "df_2011_2 = pd.read_csv('Desktop/processo-ifood/case-ifood/tt-scrapping/06_a_12_2011.csv')\n",
    "df_2011_1 = pd.read_csv('Desktop/processo-ifood/case-ifood/tt-scrapping/01_a_06_2011.csv')\n",
    "df_2010_2 = pd.read_csv('Desktop/processo-ifood/case-ifood/tt-scrapping/06_a_12_2010.csv')\n",
    "df_2010_1 = pd.read_csv('Desktop/processo-ifood/case-ifood/tt-scrapping/01_a_6_2010.csv')\n",
    "df_2009_2 = pd.read_csv('Desktop/processo-ifood/case-ifood/tt-scrapping/07_a_12_2009.csv')\n",
    "df_2009_1 = pd.read_csv('Desktop/processo-ifood/case-ifood/tt-scrapping/04_a_07_2009.csv')\n",
    "df_2009_2013 = [df_2012_2, df_2012_1, df_2011_2, df_2011_1, df_2010_2,\n",
    "               df_2010_1, df_2009_2, df_2009_1]\n",
    "\n",
    "# concatenando arquivos\n",
    "df_2009_2013 = pd.concat(df_2009_2013)"
   ]
  },
  {
   "cell_type": "code",
   "execution_count": 674,
   "id": "0defb336-06ae-466a-949e-a7a272ba9f33",
   "metadata": {
    "tags": []
   },
   "outputs": [
    {
     "name": "stdout",
     "output_type": "stream",
     "text": [
      "<class 'pandas.core.frame.DataFrame'>\n",
      "Int64Index: 30378 entries, 0 to 2562\n",
      "Data columns (total 5 columns):\n",
      " #   Column      Non-Null Count  Dtype \n",
      "---  ------      --------------  ----- \n",
      " 0   Unnamed: 0  30378 non-null  int64 \n",
      " 1   0           30378 non-null  object\n",
      " 2   1           30378 non-null  object\n",
      " 3   2           30378 non-null  object\n",
      " 4   3           30372 non-null  object\n",
      "dtypes: int64(1), object(4)\n",
      "memory usage: 1.4+ MB\n"
     ]
    }
   ],
   "source": [
    "df_2009_2013.info()"
   ]
  },
  {
   "cell_type": "code",
   "execution_count": 675,
   "id": "1438bf32-e88c-489a-b20d-65c8cf791773",
   "metadata": {},
   "outputs": [],
   "source": [
    "# definindo função para tratar os dataframes\n",
    "def df_filter(df):\n",
    "    df.dropna(inplace=True)\n",
    "    \n",
    "    colunas = ['Unnamed: 0']\n",
    "    df.drop(columns=colunas, inplace=True)\n",
    "    \n",
    "    #transformando o formato da data\n",
    "    my_tz = pytz.timezone('America/Sao_Paulo')\n",
    "    df['2'] = pd.to_datetime(df['2'], utc=True)\n",
    "    df['2'] = df['2'].dt.tz_convert(my_tz)\n",
    "    df.drop_duplicates(subset=['2'], inplace=True)\n",
    "    \n",
    "    #renomeando colunas\n",
    "    df = df.rename(columns={'0': 'name',\n",
    "                            '1': 'handle', \n",
    "                            '2': 'time', \n",
    "                            '3': 'tweet'}, inplace=True)\n",
    "    \n",
    "    return df"
   ]
  },
  {
   "cell_type": "code",
   "execution_count": 676,
   "id": "f07beda7-c455-4c27-af2a-5daa9a1a16dd",
   "metadata": {},
   "outputs": [],
   "source": [
    "# aplicando a função\n",
    "df_filter(df_2009_2013)"
   ]
  },
  {
   "cell_type": "code",
   "execution_count": 677,
   "id": "3b37ea08-665a-4c31-976c-18747a263a79",
   "metadata": {
    "tags": []
   },
   "outputs": [
    {
     "name": "stdout",
     "output_type": "stream",
     "text": [
      "<class 'pandas.core.frame.DataFrame'>\n",
      "Int64Index: 15496 entries, 0 to 2543\n",
      "Data columns (total 4 columns):\n",
      " #   Column  Non-Null Count  Dtype                            \n",
      "---  ------  --------------  -----                            \n",
      " 0   name    15496 non-null  object                           \n",
      " 1   handle  15496 non-null  object                           \n",
      " 2   time    15496 non-null  datetime64[ns, America/Sao_Paulo]\n",
      " 3   tweet   15496 non-null  object                           \n",
      "dtypes: datetime64[ns, America/Sao_Paulo](1), object(3)\n",
      "memory usage: 605.3+ KB\n"
     ]
    }
   ],
   "source": [
    "df_2009_2013.info()"
   ]
  },
  {
   "cell_type": "code",
   "execution_count": 678,
   "id": "e6f3306f-58c8-4a12-9ad5-55aba0f1f25e",
   "metadata": {
    "tags": []
   },
   "outputs": [],
   "source": [
    "# filtrando replies \n",
    "df_2009_2013 = df_2009_2013[~df_2009_2013['tweet'].str.contains(\"Em resposta a \\n\")]\n",
    "df_2009_2013 = df_2009_2013[~df_2009_2013['tweet'].str.startswith('@')]\n",
    "df_2009_2013 = df_2009_2013.loc[df_2009_2013['handle'] == '@gabturquetti']\n",
    "df_2009_2013.reset_index(inplace=True)\n",
    "df_2009_2013.drop(columns='index', inplace=True)"
   ]
  },
  {
   "cell_type": "markdown",
   "id": "649d470a-63bf-4d98-85e8-90dae8b7eae3",
   "metadata": {},
   "source": [
    "### Twitter: Período de 2013 a 2019"
   ]
  },
  {
   "cell_type": "code",
   "execution_count": 680,
   "id": "f8f350ee-0ffe-4dd7-8908-68661eb71e80",
   "metadata": {},
   "outputs": [],
   "source": [
    "#importando arquivos\n",
    "\n",
    "df_2018_2021 = pd.read_csv('Desktop/processo-ifood/case-ifood/tt-scrapping/2018_2021.csv')\n",
    "df_2014_2018 = pd.read_csv('Desktop/processo-ifood/case-ifood/tt-scrapping/27_02_2018_a_31_12_2014.csv')\n",
    "df_2013_2014 = pd.read_csv('Desktop/processo-ifood/case-ifood/tt-scrapping/2014_a_05_2013.csv')\n",
    "\n",
    "df_2013_2019 = [df_2018_2021, df_2014_2018, df_2013_2014]\n",
    "\n",
    "# concatenando arquivos\n",
    "df_2013_2019 = pd.concat(df_2013_2019)"
   ]
  },
  {
   "cell_type": "code",
   "execution_count": 681,
   "id": "a33b2e1a-3ba3-40d3-b802-f28e6b07b544",
   "metadata": {
    "tags": []
   },
   "outputs": [
    {
     "name": "stdout",
     "output_type": "stream",
     "text": [
      "<class 'pandas.core.frame.DataFrame'>\n",
      "Int64Index: 12117 entries, 0 to 8895\n",
      "Data columns (total 5 columns):\n",
      " #   Column      Non-Null Count  Dtype \n",
      "---  ------      --------------  ----- \n",
      " 0   Unnamed: 0  12117 non-null  int64 \n",
      " 1   0           12114 non-null  object\n",
      " 2   1           12114 non-null  object\n",
      " 3   2           12117 non-null  object\n",
      " 4   3           12096 non-null  object\n",
      "dtypes: int64(1), object(4)\n",
      "memory usage: 568.0+ KB\n"
     ]
    }
   ],
   "source": [
    "df_2013_2019.info()"
   ]
  },
  {
   "cell_type": "code",
   "execution_count": 682,
   "id": "0d809c7e-6b0d-4bd8-ad15-403a7dfd666f",
   "metadata": {},
   "outputs": [],
   "source": [
    "# filtrando o df com a função 'df_filter'\n",
    "df_filter(df_2013_2019)"
   ]
  },
  {
   "cell_type": "code",
   "execution_count": 683,
   "id": "2e3d10f8-5e2e-49e1-8e8a-bb097e9ed524",
   "metadata": {
    "tags": []
   },
   "outputs": [
    {
     "name": "stdout",
     "output_type": "stream",
     "text": [
      "<class 'pandas.core.frame.DataFrame'>\n",
      "Int64Index: 6916 entries, 0 to 8878\n",
      "Data columns (total 4 columns):\n",
      " #   Column  Non-Null Count  Dtype                            \n",
      "---  ------  --------------  -----                            \n",
      " 0   name    6916 non-null   object                           \n",
      " 1   handle  6916 non-null   object                           \n",
      " 2   time    6916 non-null   datetime64[ns, America/Sao_Paulo]\n",
      " 3   tweet   6916 non-null   object                           \n",
      "dtypes: datetime64[ns, America/Sao_Paulo](1), object(3)\n",
      "memory usage: 270.2+ KB\n"
     ]
    }
   ],
   "source": [
    "df_2013_2019.info()"
   ]
  },
  {
   "cell_type": "code",
   "execution_count": 684,
   "id": "5f371a4c-ac4e-46be-8f38-e4fff285a497",
   "metadata": {
    "tags": []
   },
   "outputs": [],
   "source": [
    "# filtrando replies \n",
    "df_2013_2019 = df_2013_2019[~df_2013_2019['tweet'].str.contains(\"Em resposta a \\n\")]\n",
    "df_2013_2019 = df_2013_2019[~df_2013_2019['tweet'].str.startswith('@')]\n",
    "df_2013_2019 = df_2013_2019.loc[df_2013_2019['handle'] == '@gabturquetti']\n",
    "df_2013_2019.reset_index(inplace=True)\n",
    "df_2013_2019.drop(columns='index', inplace=True)"
   ]
  },
  {
   "cell_type": "code",
   "execution_count": 685,
   "id": "09c43c3c-0240-41b9-8d74-ca3780ac4b72",
   "metadata": {},
   "outputs": [],
   "source": [
    "#separando dados dos períodos: 2013 a 2019 e 2020 a 2021\n",
    "\n",
    "split_date ='2020-01-01 00:00:00-03:00'\n",
    "df_2020_2021 = df_2013_2019.loc[df_2013_2019['time'] > split_date]\n",
    "df_2013_2019 = df_2013_2019.loc[df_2013_2019['time'] <= split_date]"
   ]
  },
  {
   "cell_type": "code",
   "execution_count": 686,
   "id": "b28abfb2-58d5-428e-b8c8-b540937594c3",
   "metadata": {},
   "outputs": [],
   "source": [
    "df_2013_2019.reset_index(inplace=True)\n",
    "df_2013_2019.drop(columns='index', inplace=True)"
   ]
  },
  {
   "cell_type": "markdown",
   "id": "c4b1771c-027d-4eb3-a284-3eee9c7c28a8",
   "metadata": {},
   "source": [
    "### Twitter: Período de 2020 a 2021"
   ]
  },
  {
   "cell_type": "code",
   "execution_count": 687,
   "id": "f393536a-5e10-4389-8a64-d15af5d5aa35",
   "metadata": {
    "collapsed": true,
    "jupyter": {
     "outputs_hidden": true
    },
    "tags": []
   },
   "outputs": [
    {
     "data": {
      "text/html": [
       "<div>\n",
       "<style scoped>\n",
       "    .dataframe tbody tr th:only-of-type {\n",
       "        vertical-align: middle;\n",
       "    }\n",
       "\n",
       "    .dataframe tbody tr th {\n",
       "        vertical-align: top;\n",
       "    }\n",
       "\n",
       "    .dataframe thead th {\n",
       "        text-align: right;\n",
       "    }\n",
       "</style>\n",
       "<table border=\"1\" class=\"dataframe\">\n",
       "  <thead>\n",
       "    <tr style=\"text-align: right;\">\n",
       "      <th></th>\n",
       "      <th>name</th>\n",
       "      <th>handle</th>\n",
       "      <th>time</th>\n",
       "      <th>tweet</th>\n",
       "    </tr>\n",
       "  </thead>\n",
       "  <tbody>\n",
       "    <tr>\n",
       "      <th>0</th>\n",
       "      <td>gabizinha</td>\n",
       "      <td>@gabturquetti</td>\n",
       "      <td>2021-08-07 01:52:06-03:00</td>\n",
       "      <td>Essa dor no braço é a dor mais gostosa no mund...</td>\n",
       "    </tr>\n",
       "    <tr>\n",
       "      <th>1</th>\n",
       "      <td>gabizinha</td>\n",
       "      <td>@gabturquetti</td>\n",
       "      <td>2021-08-06 18:49:56-03:00</td>\n",
       "      <td>Quando precisarem de um sinal 5G contem comigo!</td>\n",
       "    </tr>\n",
       "    <tr>\n",
       "      <th>2</th>\n",
       "      <td>gabizinha</td>\n",
       "      <td>@gabturquetti</td>\n",
       "      <td>2021-08-06 18:49:42-03:00</td>\n",
       "      <td>AINDA TO TREMENDO</td>\n",
       "    </tr>\n",
       "    <tr>\n",
       "      <th>3</th>\n",
       "      <td>gabizinha</td>\n",
       "      <td>@gabturquetti</td>\n",
       "      <td>2021-08-06 18:47:39-03:00</td>\n",
       "      <td>THIS GIRL IS ON PFIZER</td>\n",
       "    </tr>\n",
       "    <tr>\n",
       "      <th>4</th>\n",
       "      <td>gabizinha</td>\n",
       "      <td>@gabturquetti</td>\n",
       "      <td>2021-08-05 16:24:45-03:00</td>\n",
       "      <td>Neste momento estou prestes a fazer a raspagem...</td>\n",
       "    </tr>\n",
       "    <tr>\n",
       "      <th>...</th>\n",
       "      <td>...</td>\n",
       "      <td>...</td>\n",
       "      <td>...</td>\n",
       "      <td>...</td>\n",
       "    </tr>\n",
       "    <tr>\n",
       "      <th>74</th>\n",
       "      <td>gabizinha</td>\n",
       "      <td>@gabturquetti</td>\n",
       "      <td>2020-03-21 09:51:46-03:00</td>\n",
       "      <td>Cabei de deixar minha mãe no aeroporto pra ela...</td>\n",
       "    </tr>\n",
       "    <tr>\n",
       "      <th>75</th>\n",
       "      <td>gabizinha</td>\n",
       "      <td>@gabturquetti</td>\n",
       "      <td>2020-03-02 15:05:30-03:00</td>\n",
       "      <td>gente por favor nunca pedi nada pra vcs, compr...</td>\n",
       "    </tr>\n",
       "    <tr>\n",
       "      <th>76</th>\n",
       "      <td>gabizinha</td>\n",
       "      <td>@gabturquetti</td>\n",
       "      <td>2020-01-26 17:34:52-03:00</td>\n",
       "      <td>Não faço ideia de quem seja mas eu, garimpeira...</td>\n",
       "    </tr>\n",
       "    <tr>\n",
       "      <th>77</th>\n",
       "      <td>gabizinha</td>\n",
       "      <td>@gabturquetti</td>\n",
       "      <td>2020-01-20 19:42:28-03:00</td>\n",
       "      <td>Consegui nem ler o título do artigo, só dei um...</td>\n",
       "    </tr>\n",
       "    <tr>\n",
       "      <th>78</th>\n",
       "      <td>gabizinha</td>\n",
       "      <td>@gabturquetti</td>\n",
       "      <td>2020-01-20 19:41:23-03:00</td>\n",
       "      <td>Será que agora que meu orientador tem um artig...</td>\n",
       "    </tr>\n",
       "  </tbody>\n",
       "</table>\n",
       "<p>79 rows × 4 columns</p>\n",
       "</div>"
      ],
      "text/plain": [
       "         name         handle                      time  \\\n",
       "0   gabizinha  @gabturquetti 2021-08-07 01:52:06-03:00   \n",
       "1   gabizinha  @gabturquetti 2021-08-06 18:49:56-03:00   \n",
       "2   gabizinha  @gabturquetti 2021-08-06 18:49:42-03:00   \n",
       "3   gabizinha  @gabturquetti 2021-08-06 18:47:39-03:00   \n",
       "4   gabizinha  @gabturquetti 2021-08-05 16:24:45-03:00   \n",
       "..        ...            ...                       ...   \n",
       "74  gabizinha  @gabturquetti 2020-03-21 09:51:46-03:00   \n",
       "75  gabizinha  @gabturquetti 2020-03-02 15:05:30-03:00   \n",
       "76  gabizinha  @gabturquetti 2020-01-26 17:34:52-03:00   \n",
       "77  gabizinha  @gabturquetti 2020-01-20 19:42:28-03:00   \n",
       "78  gabizinha  @gabturquetti 2020-01-20 19:41:23-03:00   \n",
       "\n",
       "                                                tweet  \n",
       "0   Essa dor no braço é a dor mais gostosa no mund...  \n",
       "1     Quando precisarem de um sinal 5G contem comigo!  \n",
       "2                                   AINDA TO TREMENDO  \n",
       "3                              THIS GIRL IS ON PFIZER  \n",
       "4   Neste momento estou prestes a fazer a raspagem...  \n",
       "..                                                ...  \n",
       "74  Cabei de deixar minha mãe no aeroporto pra ela...  \n",
       "75  gente por favor nunca pedi nada pra vcs, compr...  \n",
       "76  Não faço ideia de quem seja mas eu, garimpeira...  \n",
       "77  Consegui nem ler o título do artigo, só dei um...  \n",
       "78  Será que agora que meu orientador tem um artig...  \n",
       "\n",
       "[79 rows x 4 columns]"
      ]
     },
     "execution_count": 687,
     "metadata": {},
     "output_type": "execute_result"
    }
   ],
   "source": [
    "df_2020_2021.reset_index(inplace=True)\n",
    "df_2020_2021.drop(columns='index')"
   ]
  },
  {
   "cell_type": "markdown",
   "id": "53461059-e2c3-4a1e-98f6-13db356d4803",
   "metadata": {},
   "source": [
    "### Extração de informações do *Last.fm* e *YouTube* dos *tweets*"
   ]
  },
  {
   "cell_type": "markdown",
   "id": "dd3dc17a-40a9-4959-9ac8-21119c846309",
   "metadata": {},
   "source": [
    "De forma a buscar entender alguns comportamentos de consumo de redes sociais (last.fm e youtube), filtrei *tweets* que possuíam essa informação, para posteriormente comparar com meus dados atuais de consumo do Spotify e YouTube."
   ]
  },
  {
   "cell_type": "markdown",
   "id": "0afd96b8-c8b3-4acc-8f37-55d150bf423e",
   "metadata": {},
   "source": [
    "#### twitter: Last.fm"
   ]
  },
  {
   "cell_type": "markdown",
   "id": "d85b4db5-1a71-4e87-98e5-d20a6d7bc5ae",
   "metadata": {},
   "source": [
    "##### Período de 2009 a 2013"
   ]
  },
  {
   "cell_type": "code",
   "execution_count": 688,
   "id": "f0c5c906-fe20-40d4-9a03-9a45f8ebba8e",
   "metadata": {},
   "outputs": [],
   "source": [
    "# Buscando por informações do last.fm nos tweets\n",
    "filt = df_2009_2013['tweet'].str.contains('My Top 3 #lastfm Artists')\n",
    "lastfm_2009_2013 = df_2009_2013['tweet'].loc[filt]"
   ]
  },
  {
   "cell_type": "code",
   "execution_count": 689,
   "id": "8c4762e2-ff74-4b4b-8d74-b28552552616",
   "metadata": {
    "tags": []
   },
   "outputs": [],
   "source": [
    "# definindo função para extrair as informações de artista e contagem dos tweets do last.fm\n",
    "def lastfm(series):\n",
    "    artistas = []\n",
    "    contagem = []\n",
    "\n",
    "    for i in series:\n",
    "        filtro = re.findall(\"[a-zA-Z\\'\\s\\ó\\/]*\\s\\(.*\\)\", i)\n",
    "        i = filtro[0].replace(',', '&').replace('&', '').lstrip()\n",
    "        cont = re.findall('\\(\\d*\\)', i)\n",
    "        art = re.findall(\"[a-zA-Z\\'\\s\\ó\\/]*[^\\(\\d*\\)]\", i)\n",
    "\n",
    "        for j in range(len(cont)):\n",
    "            artistas.append(art[j].strip())\n",
    "            contagem.append(int(cont[j].replace('(', '').replace(')', '')))\n",
    "    \n",
    "    data_tuples = list(zip(artistas, contagem))\n",
    "    series = pd.DataFrame(data_tuples, columns=['artistas', 'contagem'])\n",
    "    \n",
    "    return series\n",
    "\n",
    "lastfm_2009_2013 = lastfm(lastfm_2009_2013)"
   ]
  },
  {
   "cell_type": "markdown",
   "id": "2531496d-db08-4232-a59d-c67c5c3a8b60",
   "metadata": {},
   "source": [
    "##### Período de 2013 a 2019"
   ]
  },
  {
   "cell_type": "code",
   "execution_count": 691,
   "id": "775e0854-76f4-4bb0-8872-dd3a76de833f",
   "metadata": {},
   "outputs": [],
   "source": [
    "# Buscando por informações do last.fm nos tweets\n",
    "filt = df_2013_2019['tweet'].str.contains('My Top 3 #lastfm Artists')\n",
    "lastfm_2013_2019 = df_2013_2019['tweet'].loc[filt]"
   ]
  },
  {
   "cell_type": "code",
   "execution_count": 692,
   "id": "e1ae1f6c-8405-4b6c-ab2a-aabe4f00739d",
   "metadata": {},
   "outputs": [],
   "source": [
    "lastfm_2013_2019 = lastfm(lastfm_2013_2019)"
   ]
  },
  {
   "cell_type": "markdown",
   "id": "db032a97-e808-43a1-91bb-0d9eb784f0f1",
   "metadata": {},
   "source": [
    "##### Período de 2020 a 2021"
   ]
  },
  {
   "cell_type": "code",
   "execution_count": 693,
   "id": "b8b6d905-c03b-4615-810a-24d72e91207f",
   "metadata": {},
   "outputs": [
    {
     "data": {
      "text/plain": [
       "Series([], Name: tweet, dtype: object)"
      ]
     },
     "execution_count": 693,
     "metadata": {},
     "output_type": "execute_result"
    }
   ],
   "source": [
    "# Buscando por informações do last.fm nos tweets\n",
    "filt = df_2020_2021['tweet'].str.contains('My Top 3 #lastfm Artists')\n",
    "lastfm_2020_2021 = df_2020_2021['tweet'].loc[filt]\n",
    "lastfm_2020_2021"
   ]
  },
  {
   "cell_type": "markdown",
   "id": "46e7d5b6-c3b3-4e4d-b3a1-47efc04ac62b",
   "metadata": {},
   "source": [
    "#### twitter: YouTube"
   ]
  },
  {
   "cell_type": "markdown",
   "id": "60a962db-0d40-4309-a3d6-e0514aaf7463",
   "metadata": {},
   "source": [
    "##### Período de 2009 a 2013"
   ]
  },
  {
   "cell_type": "code",
   "execution_count": 694,
   "id": "e5e78967-a4db-4a4a-bf6f-04e7af09c276",
   "metadata": {},
   "outputs": [],
   "source": [
    "# Buscando por informações do youtube nos tweets\n",
    "filt = df_2009_2013['tweet'].str.contains('http://youtube.com/')\n",
    "yt_2009_2013 = df_2009_2013['tweet'].loc[filt]"
   ]
  },
  {
   "cell_type": "code",
   "execution_count": 695,
   "id": "e16f8d80-aa6e-48f6-81e3-bc5962bf8091",
   "metadata": {},
   "outputs": [],
   "source": [
    "# definindo função para extrair os IDs dos vídeos\n",
    "def youtube(series):\n",
    "    url = []\n",
    "    ids = []\n",
    "\n",
    "    for i in series:\n",
    "        string = re.findall('v\\=[a-zA-Z0-9_]*', i)\n",
    "        url.append(string[0])\n",
    "\n",
    "    for i in url:\n",
    "        ids.append(i.replace('v=', ''))\n",
    "\n",
    "    return ids"
   ]
  },
  {
   "cell_type": "code",
   "execution_count": 696,
   "id": "d3907d7e-7071-4702-9f59-33afacbc7461",
   "metadata": {},
   "outputs": [],
   "source": [
    "yt_2009_2013 = youtube(yt_2009_2013)"
   ]
  },
  {
   "cell_type": "markdown",
   "id": "682dbc66-c19a-4eff-b6a2-39d720d9c869",
   "metadata": {},
   "source": [
    "##### Consumindo API do YouTube"
   ]
  },
  {
   "cell_type": "markdown",
   "id": "47a9d469-2925-4db4-9270-029bb6d0becf",
   "metadata": {},
   "source": [
    "Para descobrir os vídeos citados no meu *twitter*, iremos consumir a API do YouTube para extrair o título, canal e categoria de todos eles."
   ]
  },
  {
   "cell_type": "code",
   "execution_count": 697,
   "id": "e1eb59b7-9730-4a79-aade-e0d42e2f66ba",
   "metadata": {},
   "outputs": [],
   "source": [
    "api_key='insira-sua-api-key-aqui'"
   ]
  },
  {
   "cell_type": "code",
   "execution_count": 699,
   "id": "6b766acf-c3e3-4ebf-bac6-195f704d95fe",
   "metadata": {},
   "outputs": [],
   "source": [
    "# Criando função para extrair o título, nome do canal e categoria das IDs dos tweets\n",
    "def req_yt(ids):\n",
    "    title = []    \n",
    "    channel_name = []\n",
    "    category_id = []\n",
    "\n",
    "    for j in ids:\n",
    "        #requisição\n",
    "        youtube = build('youtube','v3', developerKey=api_key)\n",
    "        res = youtube.videos().list(part='snippet', id = j).execute()\n",
    "        \n",
    "        try:\n",
    "            title.append(res['items'][0]['snippet']['title'])\n",
    "            channel_name.append(res['items'][0]['snippet']['channelTitle'])\n",
    "            category_id.append(res['items'][0]['snippet']['categoryId'])\n",
    "\n",
    "        except:\n",
    "            title.append('')\n",
    "            channel_name.append('')\n",
    "            category_id.append('')\n",
    "    \n",
    "    tuples = list(zip(title, channel_name, category_id))\n",
    "    yt_videos = pd.DataFrame(tuples, columns=['titulo', 'canal', 'categoria'])\n",
    "    \n",
    "    return yt_videos"
   ]
  },
  {
   "cell_type": "code",
   "execution_count": 701,
   "id": "6cc77a0e-6a9e-4c6b-8812-9b263d286448",
   "metadata": {
    "tags": []
   },
   "outputs": [],
   "source": [
    "# chamando a função 'req_yt' e extraindo suas informações\n",
    "yt_2009_2013_info = req_yt(yt_2009_2013)"
   ]
  },
  {
   "cell_type": "markdown",
   "id": "c7f53716-6b6d-4b20-adc4-224f92916ec0",
   "metadata": {},
   "source": [
    "##### Período de 2013 a 2019"
   ]
  },
  {
   "cell_type": "code",
   "execution_count": 704,
   "id": "9ab386cc-5afb-4196-a700-688801604f1a",
   "metadata": {},
   "outputs": [],
   "source": [
    "# Buscando por informações do youtube nos tweets\n",
    "filt = df_2013_2019['tweet'].str.contains('https://youtube.com/')\n",
    "yt_2013_2019 = df_2013_2019['tweet'].loc[filt]"
   ]
  },
  {
   "cell_type": "code",
   "execution_count": 705,
   "id": "c507492a-5bde-4350-ad3a-b825569ad12a",
   "metadata": {
    "tags": []
   },
   "outputs": [],
   "source": [
    "# chamando a função 'req_yt' e extraindo suas informações\n",
    "yt_2013_2019_info = req_yt(yt_2013_2019)"
   ]
  },
  {
   "cell_type": "markdown",
   "id": "f5343552-7b7c-4de2-84bf-0260acdfffc6",
   "metadata": {},
   "source": [
    "##### Período de 2020 a 2021"
   ]
  },
  {
   "cell_type": "code",
   "execution_count": 706,
   "id": "27562442-b086-4b88-bf30-bd7754128161",
   "metadata": {},
   "outputs": [
    {
     "data": {
      "text/plain": [
       "Series([], Name: tweet, dtype: object)"
      ]
     },
     "execution_count": 706,
     "metadata": {},
     "output_type": "execute_result"
    }
   ],
   "source": [
    "# Buscando por informações do youtube nos tweets\n",
    "filt = df_2020_2021['tweet'].str.contains('https://youtube.com/')\n",
    "yt_2020_2021 = df_2020_2021['tweet'].loc[filt]\n",
    "yt_2020_2021"
   ]
  },
  {
   "cell_type": "markdown",
   "id": "2b741815-33a5-41af-a752-ab1728e3048a",
   "metadata": {},
   "source": [
    "##### Agora que todos os *tweets* estão filtrados, vamos criar um dataframe final com todos os *tweets*."
   ]
  },
  {
   "cell_type": "code",
   "execution_count": 707,
   "id": "0a7ae09a-6fb0-4b71-89cf-71a71f3bacc2",
   "metadata": {
    "tags": []
   },
   "outputs": [],
   "source": [
    "# exportar df com todos os tweets\n",
    "df = [df_2020_2021, df_2013_2019, df_2009_2013]\n",
    "df = pd.concat(df)\n",
    "df.reset_index(inplace=True)\n",
    "df.drop(columns='index', inplace=True)"
   ]
  },
  {
   "cell_type": "markdown",
   "id": "b32c8972-f2ff-4f60-9b4a-fcf98d41fe28",
   "metadata": {},
   "source": [
    "## Processamento de Linguagem Natural dos *Tweets*"
   ]
  },
  {
   "cell_type": "markdown",
   "id": "03dc4b37-ac9d-431b-b253-87cc8def866c",
   "metadata": {},
   "source": [
    "O primeiro passo para realizamos a análise de comportamento ao longo dos anos é fazendo um processo de *data cleaning* nos *tweets* (retirar palavras irrelevantes, *urls*, símbolos, acentuação, etc). E posteriormente, realizar uma análise buscando quais são as palavras mais recorrentes dentro dos períodos estabelecidos anteriormente.\n",
    "\n",
    "Para realizar esse processamento de linguagem natural, iremos utilizar a biblioteca `texthero`. "
   ]
  },
  {
   "cell_type": "code",
   "execution_count": 708,
   "id": "9ae1b83f-e560-4811-a1f3-e35054e9d841",
   "metadata": {},
   "outputs": [],
   "source": [
    "# importando as 'stopwords'\n",
    "f = ['a', 'à', 'adeus', 'agora', 'aí', 'ainda', 'além', 'algo', 'alguém', 'algum', 'alguma', 'algumas', 'alguns', 'ali', 'ampla', 'amplas', 'amplo', 'amplos', 'ano', 'anos', 'ante', 'antes', 'ao', 'aos', 'apenas', 'apoio', 'após', 'aquela', 'aquelas', 'aquele', 'aqueles', 'aqui', 'aquilo', 'área', 'as', 'às', 'assim', 'até', 'atrás', 'através', 'artists', 'baixo', 'bastante', 'bem', 'boa', 'boas', 'bom', 'bons', 'breve', 'cá', 'cada', 'catorze', 'caralho', 'cedo', 'cento', 'certamente', 'certeza', 'cima', 'cinco', 'coisa', 'coisas', 'com', 'como', 'conselho', 'contra', 'contudo', 'custa', 'da', 'dá', 'dão', 'daquela', 'daquelas', 'daquele', 'daqueles', 'dar', 'das', 'de', 'debaixo', 'dela', 'delas', 'dele', 'deles', 'demais', 'dentro', 'depois', 'desde', 'dessa', 'dessas', 'desse', 'desses', 'desta', 'destas', 'deste', 'destes', 'deve', 'devem', 'devendo', 'dever', 'deverá', 'deverão', 'deveria', 'deveriam', 'devia', 'deviam', 'dez', 'dezanove', 'dezasseis', 'dezassete', 'dezoito', 'dia', 'diante', 'disse', 'disso', 'disto', 'dito', 'diz', 'dizem', 'dizer', 'do', 'dois', 'dos', 'doze', 'duas', 'dúvida', 'e', 'é', 'ela', 'elas', 'ele', 'eles', 'em', 'embora', 'enquanto', 'entre', 'era', 'eram', 'éramos', 'és', 'essa', 'essas', 'esse', 'esses', 'esta', 'está', 'estamos', 'estão', 'estar', 'estas', 'estás', 'estava', 'estavam', 'estávamos', 'este', 'esteja', 'estejam', 'estejamos', 'estes', 'esteve', 'estive', 'estivemos', 'estiver', 'estivera', 'estiveram', 'estivéramos', 'estiverem', 'estivermos', 'estivesse', 'estivessem', 'estivéssemos', 'estiveste', 'estivestes', 'estou', 'etc', 'eu', 'exemplo', 'faço', 'falta', 'favor', 'faz', 'fazeis', 'fazem', 'fazemos', 'fazendo', 'fazer', 'fazes', 'feita', 'feitas', 'feito', 'feitos', 'fez', 'fim', 'final', 'foi', 'fomos', 'for', 'fora', 'foram', 'fôramos', 'forem', 'forma', 'formos', 'fosse', 'fossem', 'fôssemos', 'foste', 'fostes', 'fui', 'geral', 'grande', 'grandes', 'grupo', 'há', 'haja', 'hajam', 'hajamos', 'hão', 'havemos', 'havia', 'hei', 'hoje', 'hora', 'horas', 'houve', 'houvemos', 'houver', 'houvera', 'houverá', 'houveram', 'houvéramos', 'houverão', 'houverei', 'houverem', 'houveremos', 'houveria', 'houveriam', 'houveríamos', 'houvermos', 'houvesse', 'houvessem', 'houvéssemos', 'isso', 'isto', 'já', 'la', 'lá', 'lado', 'lhe', 'lhes', 'lo', 'local', 'logo', 'longe', 'lugar', 'maior', 'maioria', 'mais', 'mal', 'mas', 'máximo', 'me', 'meio', 'menor', 'menos', 'mês', 'meses', 'mesma', 'mesmas', 'mesmo', 'mesmos', 'meu', 'meus', 'merda', 'mil', 'minha', 'minhas', 'momento', 'muita', 'muitas', 'muito', 'muitos', 'na', 'nada', 'nao', 'não', 'naquela', 'naquelas', 'naquele', 'naqueles', 'nas', 'nem', 'nenhum', 'nenhuma', 'nessa', 'nessas', 'nesse', 'nesses', 'nesta', 'nestas', 'neste', 'nestes', 'ninguém', 'nível', 'no', 'noite', 'nome', 'nos', 'nós', 'nossa', 'nossas', 'nosso', 'nossos', 'nova', 'novas', 'nove', 'novo', 'novos', 'num', 'numa', 'número', 'nunca', 'o', 'obra', 'obrigada', 'obrigado', 'oitava', 'oitavo', 'oito', 'onde', 'ontem', 'onze', 'os', 'ou', 'outra', 'outras', 'outro', 'outros', 'para', 'parece', 'parte', 'partir', 'paucas', 'pela', 'pelas', 'pelo', 'pelos', 'pequena', 'pequenas', 'pequeno', 'pequenos', 'per', 'perante', 'perto', 'pode', 'pude', 'pôde', 'podem', 'podendo', 'poder', 'poderia', 'poderiam', 'podia', 'podiam', 'põe', 'põem', 'pois', 'ponto', 'pontos', 'por', 'porém', 'porque', 'porquê', 'posição', 'possível', 'possivelmente', 'posso', 'pouca', 'poucas', 'pouco', 'poucos', 'porra', 'primeira', 'primeiras', 'primeiro', 'primeiros', 'própria', 'próprias', 'próprio', 'próprios', 'próxima', 'próximas', 'próximo', 'próximos', 'pude', 'puderam', 'preciso', 'precisar', 'quais', 'quáis', 'qual', 'quando', 'quanto', 'quantos', 'quarta', 'quarto', 'quatro', 'que', 'quê', 'quem', 'quer','querer', 'quereis', 'querem', 'queremas', 'queres', 'quero', 'questão', 'quinta', 'quinto', 'quinze', 'relação', 'sabe', 'sabem', 'são', 'se', 'segunda', 'segundo', 'sei', 'seis', 'seja', 'sejam', 'sejamos', 'sem', 'sempre', 'sendo', 'ser', 'será', 'serão', 'serei', 'seremos', 'seria', 'seriam', 'seríamos', 'sete', 'sétima', 'sétimo', 'seu', 'seus', 'sexta', 'sexto', 'si', 'sido', 'sim', 'sistema', 'só', 'sob', 'sobre', 'sois', 'somos', 'sou', 'sua', 'suas', 'tal', 'talvez', 'também', 'tampouco', 'tanta', 'tantas', 'tanto', 'tão', 'tarde', 'te', 'tem', 'tém', 'têm', 'temos', 'tendes', 'tendo', 'tenha', 'tenham', 'tenhamos', 'tenho', 'tens', 'ter', 'terá', 'terão', 'terceira', 'terceiro', 'terei', 'teremos', 'teria', 'teriam', 'teríamos', 'teu', 'teus', 'teve', 'ti', 'tido', 'tinha', 'tinham', 'tínhamos', 'tive', 'tivemos', 'tiver', 'tivera', 'tiveram', 'tivéramos', 'tiverem', 'tivermos', 'tivesse', 'tivessem', 'tivéssemos', 'tiveste', 'tivestes', 'toda', 'todas', 'todavia', 'todo', 'todos', 'trabalho', 'três', 'treze', 'tu', 'tua', 'tuas', 'tudo', 'última', 'últimas', 'último', 'últimos', 'um', 'uma', 'umas', 'uns', 'vai', 'vais', 'vão', 'vários', 'vem', 'vêm', 'vendo', 'vens', 'ver', 'vez', 'vezes', 'viagem', 'vindo', 'vinte', 'vir', 'você', 'vocês', 'vos', 'vós', 'vossa', 'vossas', 'vosso', 'vossos', 'zero', 'lastfm', 'twitter', 'youtube', '1', '2', '3', '4', '5', '6', '7', '8', '9', '0', '_']"
   ]
  },
  {
   "cell_type": "code",
   "execution_count": 709,
   "id": "a68eebdf-f703-4ec6-b66c-ce8e9c267245",
   "metadata": {},
   "outputs": [],
   "source": [
    "# definindo as 'stopwords' em português como padrão\n",
    "default_stopwords = stopwords.DEFAULT\n",
    "custom_stopwords = default_stopwords.union(set(f))"
   ]
  },
  {
   "cell_type": "markdown",
   "id": "1b2b5523-26b1-40b4-a9a3-6fe065f974f5",
   "metadata": {},
   "source": [
    "##### PLN: Período de 2009 a 2013"
   ]
  },
  {
   "cell_type": "code",
   "execution_count": 710,
   "id": "3cfdee51-b519-4c34-945d-c2af7df94e05",
   "metadata": {},
   "outputs": [],
   "source": [
    "nlp_2009_2013 = df_2009_2013['tweet']"
   ]
  },
  {
   "cell_type": "code",
   "execution_count": 711,
   "id": "e418f41f-a8d8-4a03-8071-d91f84ead7f6",
   "metadata": {},
   "outputs": [],
   "source": [
    "# definindo função para limpeza da series\n",
    "def nlp_clean(series):\n",
    "    series = hero.remove_urls(series)\n",
    "    series = hero.remove_stopwords(series, custom_stopwords)\n",
    "    series = hero.clean(series)\n",
    "    \n",
    "    return series"
   ]
  },
  {
   "cell_type": "code",
   "execution_count": 712,
   "id": "399ede7c-994e-4552-aae7-11ec6d7fb0a8",
   "metadata": {},
   "outputs": [],
   "source": [
    "# data cleaning \n",
    "nlp_2009_2013 = nlp_clean(nlp_2009_2013)"
   ]
  },
  {
   "cell_type": "code",
   "execution_count": 714,
   "id": "f1703164-c6c8-4b95-90fd-5b6d67a1d0e2",
   "metadata": {},
   "outputs": [],
   "source": [
    "# buscando palavras mais recorrentes e transformando o resultado em dataframe\n",
    "nlp_2009_2013 = hero.top_words(nlp_2009_2013).to_frame()\n",
    "nlp_2009_2013.reset_index(inplace=True)"
   ]
  },
  {
   "cell_type": "code",
   "execution_count": 715,
   "id": "ce9d9a0a-dc82-48d5-a893-e2b135ecf6e7",
   "metadata": {},
   "outputs": [],
   "source": [
    "# filtrando somente palavras recorrentes que possuem 5 ou mais letras\n",
    "nlp_2009_2013['index'] = nlp_2009_2013[nlp_2009_2013['index'].str.len()>=5]\n",
    "nlp_2009_2013.dropna(inplace=True)"
   ]
  },
  {
   "cell_type": "markdown",
   "id": "301e10ab-6ea8-4201-8c32-94b549f95b7c",
   "metadata": {},
   "source": [
    "##### PLN: Período de 2013 a 2019"
   ]
  },
  {
   "cell_type": "code",
   "execution_count": 717,
   "id": "f98c6063-1a87-4ca6-8bed-8cc641688d59",
   "metadata": {},
   "outputs": [],
   "source": [
    "nlp_2013_2019 = df_2013_2019['tweet']"
   ]
  },
  {
   "cell_type": "code",
   "execution_count": 718,
   "id": "dc116c58-f85c-482d-b880-da4d7c9eb553",
   "metadata": {},
   "outputs": [],
   "source": [
    "nlp_2013_2019 = nlp_clean(nlp_2013_2019)"
   ]
  },
  {
   "cell_type": "code",
   "execution_count": 719,
   "id": "4b0937ef-51df-498b-94da-14a4bcdc0d93",
   "metadata": {},
   "outputs": [],
   "source": [
    "# buscando palavras mais recorrentes e transformando o resultado em dataframe\n",
    "nlp_2013_2019 = hero.top_words(nlp_2013_2019).to_frame()\n",
    "nlp_2013_2019.reset_index(inplace=True)"
   ]
  },
  {
   "cell_type": "code",
   "execution_count": 720,
   "id": "76286e4e-673d-45c5-84cb-d26a3ed037ca",
   "metadata": {},
   "outputs": [],
   "source": [
    "# filtrando somente palavras recorrentes que possuem 5 ou mais letras\n",
    "nlp_2013_2019['index'] = nlp_2013_2019[nlp_2013_2019['index'].str.len()>=5]\n",
    "nlp_2013_2019.dropna(inplace=True)"
   ]
  },
  {
   "cell_type": "markdown",
   "id": "2f4e96b8-17d8-431e-8eab-c4531925d0df",
   "metadata": {},
   "source": [
    "##### PLN: Período de 2020 a 2021"
   ]
  },
  {
   "cell_type": "code",
   "execution_count": 721,
   "id": "434913c1-5b2c-4972-8989-e8e405653333",
   "metadata": {},
   "outputs": [],
   "source": [
    "nlp_2020_2021 = df_2020_2021['tweet']"
   ]
  },
  {
   "cell_type": "code",
   "execution_count": 722,
   "id": "dd3229b2-143c-4306-b637-ad937ec1d5ad",
   "metadata": {},
   "outputs": [],
   "source": [
    "nlp_2020_2021 = nlp_clean(nlp_2020_2021)"
   ]
  },
  {
   "cell_type": "code",
   "execution_count": 723,
   "id": "be2ace3a-47dd-49b4-b066-907d1a58cc0d",
   "metadata": {},
   "outputs": [],
   "source": [
    "# buscando palavras mais recorrentes e transformando o resultado em dataframe\n",
    "nlp_2020_2021 = hero.top_words(nlp_2020_2021).to_frame()\n",
    "nlp_2020_2021.reset_index(inplace=True)"
   ]
  },
  {
   "cell_type": "code",
   "execution_count": 724,
   "id": "85cd853f-5b70-4826-9e38-ab7824d23be2",
   "metadata": {},
   "outputs": [],
   "source": [
    "# filtrando somente palavras recorrentes que possuem 5 ou mais letras\n",
    "nlp_2020_2021['index'] = nlp_2020_2021[nlp_2020_2021['index'].str.len()>=5]\n",
    "nlp_2020_2021.dropna(inplace=True)"
   ]
  },
  {
   "cell_type": "markdown",
   "id": "59a81bb4-968a-40c5-89f3-47dbba52ce8b",
   "metadata": {},
   "source": [
    "## YouTube"
   ]
  },
  {
   "cell_type": "markdown",
   "id": "4a68a245-8408-40dc-8392-4c248e3c23d2",
   "metadata": {},
   "source": [
    "Agora vamos tratar a base de dados do Youtube, no qual temos dados do período de 2014 a 2021. \n",
    "\n",
    "Vamos limpar a base de dados e deixá-la pronta para o consumo da API do YouTube para extrairmos as categorias dos vídeos."
   ]
  },
  {
   "cell_type": "code",
   "execution_count": 725,
   "id": "cff4d2e9-65c4-4c79-85eb-0d252bc72f96",
   "metadata": {},
   "outputs": [],
   "source": [
    "# importando dataset\n",
    "df_yt = pd.read_json('Desktop/processo-ifood/case-ifood/youtube/historico-de-visualizacao.json')"
   ]
  },
  {
   "cell_type": "code",
   "execution_count": 726,
   "id": "91a0ec7f-d979-4f6c-bf47-83236233aa44",
   "metadata": {
    "tags": []
   },
   "outputs": [
    {
     "name": "stdout",
     "output_type": "stream",
     "text": [
      "<class 'pandas.core.frame.DataFrame'>\n",
      "RangeIndex: 8371 entries, 0 to 8370\n",
      "Data columns (total 7 columns):\n",
      " #   Column     Non-Null Count  Dtype \n",
      "---  ------     --------------  ----- \n",
      " 0   header     8371 non-null   object\n",
      " 1   title      8371 non-null   object\n",
      " 2   titleUrl   8286 non-null   object\n",
      " 3   subtitles  7834 non-null   object\n",
      " 4   time       8371 non-null   object\n",
      " 5   products   8371 non-null   object\n",
      " 6   details    177 non-null    object\n",
      "dtypes: object(7)\n",
      "memory usage: 457.9+ KB\n"
     ]
    }
   ],
   "source": [
    "df_yt.info()"
   ]
  },
  {
   "cell_type": "code",
   "execution_count": 727,
   "id": "54f98d5a-a9b0-49a0-b3d0-5673ac1443f5",
   "metadata": {},
   "outputs": [],
   "source": [
    "# filtrando valores NaN\n",
    "df_yt.drop(columns='details', inplace=True)\n",
    "df_yt.dropna(inplace=True)\n",
    "df_yt.reset_index(inplace=True)"
   ]
  },
  {
   "cell_type": "code",
   "execution_count": 728,
   "id": "ca2cbdd2-c214-4060-a396-bdc91839dce4",
   "metadata": {},
   "outputs": [],
   "source": [
    "# filtrando as colunas que não iremos utilizar\n",
    "df_yt.drop(columns=['index', 'header','products'], inplace=True)"
   ]
  },
  {
   "cell_type": "code",
   "execution_count": 729,
   "id": "2fb04a5c-e419-4605-9f18-3fdc5b6eb408",
   "metadata": {},
   "outputs": [],
   "source": [
    "# criando função para extrair os nomes dos canais do Youtube.\n",
    "def channel_name_yt(series):\n",
    "    c = len(series)\n",
    "    channel_name = []\n",
    "\n",
    "    for i in range(c):\n",
    "        channel_name.append(series[i][0]['name'])\n",
    "    \n",
    "    return channel_name\n",
    "\n",
    "channel_name_yt(df_yt['subtitles'])\n",
    "\n",
    "# criando uma nova coluna com o nome dos canais de cada vídeo assistido\n",
    "df_yt['channelName'] = channel_name"
   ]
  },
  {
   "cell_type": "code",
   "execution_count": 730,
   "id": "c6e1e5fa-13da-4cd4-8695-b68010702447",
   "metadata": {},
   "outputs": [],
   "source": [
    "# Retirando 'Watched' no título de todos os vídeos assistidos\n",
    "df_yt['title'] = df_yt['title'].str.replace('Watched','')"
   ]
  },
  {
   "cell_type": "code",
   "execution_count": 731,
   "id": "ccc169b8-9932-42d1-9564-205d7f4068be",
   "metadata": {},
   "outputs": [],
   "source": [
    "# Convertendo a coluna de timestamp\n",
    "my_tz = pytz.timezone('America/Sao_Paulo')\n",
    "df_yt['time'] = pd.to_datetime(df_yt['time'], utc=True)\n",
    "df_yt['time'] = df_yt['time'].dt.tz_convert(my_tz)"
   ]
  },
  {
   "cell_type": "code",
   "execution_count": 732,
   "id": "39fe37bf-5319-4190-9818-ee1e47b46481",
   "metadata": {},
   "outputs": [],
   "source": [
    "df_yt.drop(columns=['subtitles'], inplace=True)"
   ]
  },
  {
   "cell_type": "markdown",
   "id": "f0a71a1c-5f89-4a5a-9e9c-a68553066c98",
   "metadata": {},
   "source": [
    "##### Consumindo a API do Youtube para extrair a categoria de cada vídeo"
   ]
  },
  {
   "cell_type": "code",
   "execution_count": 734,
   "id": "54239d70-5bad-4416-bbbb-28582ad4586d",
   "metadata": {},
   "outputs": [],
   "source": [
    "# extraindo a ID de todos os vídeos assistidos da coluna 'titleUrl'\n",
    "c = len(df_yt)\n",
    "ids = []\n",
    "\n",
    "for i in range(c):\n",
    "    url = df_yt['titleUrl'][i].split('=')\n",
    "    ids.append(url[1])"
   ]
  },
  {
   "cell_type": "code",
   "execution_count": 736,
   "id": "5abe731e-6911-4b03-bc83-fa0fcf52cdb4",
   "metadata": {
    "tags": []
   },
   "outputs": [],
   "source": [
    "# Criando função para extrair a categoria dos vídeos\n",
    "\n",
    "def yt_category(ids):\n",
    "    category_id = []\n",
    "    youtube = build('youtube','v3', developerKey=api_key)\n",
    "\n",
    "    for i in ids:\n",
    "        res = youtube.videos().list(part='snippet', id=i).execute()\n",
    "        \n",
    "        try:\n",
    "            category_id.append(res['items'][0]['snippet']['categoryId'])\n",
    "        except:\n",
    "            category_id.append('')\n",
    "   \n",
    "    return category_id"
   ]
  },
  {
   "cell_type": "code",
   "execution_count": 737,
   "id": "d350baaa-5629-4c17-aa5b-20cf35b60728",
   "metadata": {},
   "outputs": [],
   "source": [
    "df_yt['category'] = yt_category(ids)"
   ]
  },
  {
   "cell_type": "code",
   "execution_count": 744,
   "id": "0df9640f-e575-4e1f-afa4-737e51cb07e2",
   "metadata": {},
   "outputs": [],
   "source": [
    "# filtrando vídeos sem categoria (e.g. anuncios)\n",
    "df_yt = df_yt.loc[df_yt['category'] != '']\n",
    "df_yt.reset_index(inplace=True)\n",
    "df_yt.drop(columns='index', inplace=True)"
   ]
  },
  {
   "cell_type": "markdown",
   "id": "b3c397d2-7d2c-4bc1-b518-2bf8465f536a",
   "metadata": {},
   "source": [
    "##### Agora que a nossa base de dados possui informações de categoria, vamos converter as categorias em número."
   ]
  },
  {
   "cell_type": "code",
   "execution_count": 746,
   "id": "93288106-3a4f-4c79-8757-761fa79372bd",
   "metadata": {},
   "outputs": [],
   "source": [
    "# importando arquivo .txt com as categorias\n",
    "category_names = pd.read_csv('Desktop/processo-ifood/case-ifood/youtube/category_names.txt', \n",
    "                             header=None, \n",
    "                             names=['category'])"
   ]
  },
  {
   "cell_type": "code",
   "execution_count": 747,
   "id": "8371b2b2-3539-4592-9dfb-375b1b52d780",
   "metadata": {},
   "outputs": [],
   "source": [
    "# convertendo o arquivo em duas colunas (número da categoria, categoria) com a função split\n",
    "category_names[['ID','category_name']] = category_names['category'].str.split(\" - \",expand=True)\n",
    "category_names.drop(columns='category', inplace=True)"
   ]
  },
  {
   "cell_type": "code",
   "execution_count": 748,
   "id": "b4833463-16e5-4467-bf63-8bad63c2fcb5",
   "metadata": {},
   "outputs": [],
   "source": [
    "# configurando a coluna ID como index e transformando o dataframe em dicionário\n",
    "category_names = category_names.set_index('ID').to_dict()"
   ]
  },
  {
   "cell_type": "code",
   "execution_count": 749,
   "id": "a877456e-5d4e-43ea-a79f-e454f32954b4",
   "metadata": {
    "collapsed": true,
    "jupyter": {
     "outputs_hidden": true
    },
    "tags": []
   },
   "outputs": [
    {
     "data": {
      "text/html": [
       "<div>\n",
       "<style scoped>\n",
       "    .dataframe tbody tr th:only-of-type {\n",
       "        vertical-align: middle;\n",
       "    }\n",
       "\n",
       "    .dataframe tbody tr th {\n",
       "        vertical-align: top;\n",
       "    }\n",
       "\n",
       "    .dataframe thead th {\n",
       "        text-align: right;\n",
       "    }\n",
       "</style>\n",
       "<table border=\"1\" class=\"dataframe\">\n",
       "  <thead>\n",
       "    <tr style=\"text-align: right;\">\n",
       "      <th></th>\n",
       "      <th>title</th>\n",
       "      <th>titleUrl</th>\n",
       "      <th>time</th>\n",
       "      <th>channelName</th>\n",
       "      <th>category</th>\n",
       "    </tr>\n",
       "  </thead>\n",
       "  <tbody>\n",
       "    <tr>\n",
       "      <th>0</th>\n",
       "      <td>What I Eat To Get Shredded (Grocery Haul For ...</td>\n",
       "      <td>https://www.youtube.com/watch?v=KTga7Hp0y70</td>\n",
       "      <td>2021-07-19 17:09:57.453000-03:00</td>\n",
       "      <td>Jeff Nippard</td>\n",
       "      <td>Entertainment</td>\n",
       "    </tr>\n",
       "    <tr>\n",
       "      <th>1</th>\n",
       "      <td>Why You Shouldn't Eat Clean: How To Lose Fat ...</td>\n",
       "      <td>https://www.youtube.com/watch?v=ytN366VCGls</td>\n",
       "      <td>2021-07-19 17:08:46.319000-03:00</td>\n",
       "      <td>Jeff Nippard</td>\n",
       "      <td>Entertainment</td>\n",
       "    </tr>\n",
       "    <tr>\n",
       "      <th>2</th>\n",
       "      <td>How To Tell If You're Training Hard Enough (U...</td>\n",
       "      <td>https://www.youtube.com/watch?v=deDlhPmT2SY</td>\n",
       "      <td>2021-07-18 21:47:44.994000-03:00</td>\n",
       "      <td>Jeff Nippard</td>\n",
       "      <td>Entertainment</td>\n",
       "    </tr>\n",
       "    <tr>\n",
       "      <th>3</th>\n",
       "      <td>Refeeds &amp; Diet Breaks: The Most Misunderstood...</td>\n",
       "      <td>https://www.youtube.com/watch?v=8HVdLMnr40M</td>\n",
       "      <td>2021-07-18 21:33:37.619000-03:00</td>\n",
       "      <td>Jeff Nippard</td>\n",
       "      <td>Entertainment</td>\n",
       "    </tr>\n",
       "    <tr>\n",
       "      <th>4</th>\n",
       "      <td>A LEI DO ESFORÇO MÍNIMO - PAULO MUZY</td>\n",
       "      <td>https://www.youtube.com/watch?v=Wg1zKREadoc</td>\n",
       "      <td>2021-07-18 21:24:59.901000-03:00</td>\n",
       "      <td>Cortes do Fisiculturismo</td>\n",
       "      <td>Sports</td>\n",
       "    </tr>\n",
       "    <tr>\n",
       "      <th>...</th>\n",
       "      <td>...</td>\n",
       "      <td>...</td>\n",
       "      <td>...</td>\n",
       "      <td>...</td>\n",
       "      <td>...</td>\n",
       "    </tr>\n",
       "    <tr>\n",
       "      <th>7791</th>\n",
       "      <td>Hino geofísica - Geofísica UFF2010</td>\n",
       "      <td>https://www.youtube.com/watch?v=imGfERHgmaE</td>\n",
       "      <td>2014-05-11 17:23:49.577000-03:00</td>\n",
       "      <td>Nathalia Ladeira</td>\n",
       "      <td>People &amp; Blogs</td>\n",
       "    </tr>\n",
       "    <tr>\n",
       "      <th>7792</th>\n",
       "      <td>Juramento dos Calouros - Geofisica UFF 2012</td>\n",
       "      <td>https://www.youtube.com/watch?v=OVIM-EqjoyQ</td>\n",
       "      <td>2014-05-11 17:20:20.108000-03:00</td>\n",
       "      <td>trotegeofisicauff</td>\n",
       "      <td>People &amp; Blogs</td>\n",
       "    </tr>\n",
       "    <tr>\n",
       "      <th>7793</th>\n",
       "      <td>Calouros no Trote de Geofisica UFF 2012!</td>\n",
       "      <td>https://www.youtube.com/watch?v=Zq4rkCcs2zg</td>\n",
       "      <td>2014-05-11 17:18:47.581000-03:00</td>\n",
       "      <td>trotegeofisicauff</td>\n",
       "      <td>People &amp; Blogs</td>\n",
       "    </tr>\n",
       "    <tr>\n",
       "      <th>7794</th>\n",
       "      <td>Blowin' In The Wind lyrics (Bob Dylan)</td>\n",
       "      <td>https://www.youtube.com/watch?v=RsjiSfAmEeo</td>\n",
       "      <td>2014-05-07 19:18:53.434000-03:00</td>\n",
       "      <td>TayZ93P</td>\n",
       "      <td>Music</td>\n",
       "    </tr>\n",
       "    <tr>\n",
       "      <th>7795</th>\n",
       "      <td>Antar Blue Band (Bob Dylan) - \"Like a Rolling...</td>\n",
       "      <td>https://www.youtube.com/watch?v=g1s47L8DrJ0</td>\n",
       "      <td>2014-05-07 19:15:01.053000-03:00</td>\n",
       "      <td>Antarblue</td>\n",
       "      <td>Music</td>\n",
       "    </tr>\n",
       "  </tbody>\n",
       "</table>\n",
       "<p>7796 rows × 5 columns</p>\n",
       "</div>"
      ],
      "text/plain": [
       "                                                  title  \\\n",
       "0      What I Eat To Get Shredded (Grocery Haul For ...   \n",
       "1      Why You Shouldn't Eat Clean: How To Lose Fat ...   \n",
       "2      How To Tell If You're Training Hard Enough (U...   \n",
       "3      Refeeds & Diet Breaks: The Most Misunderstood...   \n",
       "4                  A LEI DO ESFORÇO MÍNIMO - PAULO MUZY   \n",
       "...                                                 ...   \n",
       "7791                 Hino geofísica - Geofísica UFF2010   \n",
       "7792        Juramento dos Calouros - Geofisica UFF 2012   \n",
       "7793           Calouros no Trote de Geofisica UFF 2012!   \n",
       "7794             Blowin' In The Wind lyrics (Bob Dylan)   \n",
       "7795   Antar Blue Band (Bob Dylan) - \"Like a Rolling...   \n",
       "\n",
       "                                         titleUrl  \\\n",
       "0     https://www.youtube.com/watch?v=KTga7Hp0y70   \n",
       "1     https://www.youtube.com/watch?v=ytN366VCGls   \n",
       "2     https://www.youtube.com/watch?v=deDlhPmT2SY   \n",
       "3     https://www.youtube.com/watch?v=8HVdLMnr40M   \n",
       "4     https://www.youtube.com/watch?v=Wg1zKREadoc   \n",
       "...                                           ...   \n",
       "7791  https://www.youtube.com/watch?v=imGfERHgmaE   \n",
       "7792  https://www.youtube.com/watch?v=OVIM-EqjoyQ   \n",
       "7793  https://www.youtube.com/watch?v=Zq4rkCcs2zg   \n",
       "7794  https://www.youtube.com/watch?v=RsjiSfAmEeo   \n",
       "7795  https://www.youtube.com/watch?v=g1s47L8DrJ0   \n",
       "\n",
       "                                 time               channelName  \\\n",
       "0    2021-07-19 17:09:57.453000-03:00              Jeff Nippard   \n",
       "1    2021-07-19 17:08:46.319000-03:00              Jeff Nippard   \n",
       "2    2021-07-18 21:47:44.994000-03:00              Jeff Nippard   \n",
       "3    2021-07-18 21:33:37.619000-03:00              Jeff Nippard   \n",
       "4    2021-07-18 21:24:59.901000-03:00  Cortes do Fisiculturismo   \n",
       "...                               ...                       ...   \n",
       "7791 2014-05-11 17:23:49.577000-03:00          Nathalia Ladeira   \n",
       "7792 2014-05-11 17:20:20.108000-03:00         trotegeofisicauff   \n",
       "7793 2014-05-11 17:18:47.581000-03:00         trotegeofisicauff   \n",
       "7794 2014-05-07 19:18:53.434000-03:00                   TayZ93P   \n",
       "7795 2014-05-07 19:15:01.053000-03:00                 Antarblue   \n",
       "\n",
       "            category  \n",
       "0      Entertainment  \n",
       "1      Entertainment  \n",
       "2      Entertainment  \n",
       "3      Entertainment  \n",
       "4             Sports  \n",
       "...              ...  \n",
       "7791  People & Blogs  \n",
       "7792  People & Blogs  \n",
       "7793  People & Blogs  \n",
       "7794           Music  \n",
       "7795           Music  \n",
       "\n",
       "[7796 rows x 5 columns]"
      ]
     },
     "execution_count": 749,
     "metadata": {},
     "output_type": "execute_result"
    }
   ],
   "source": [
    "# substituindo os IDs da categoria pelo seus respectivos nomes\n",
    "df_yt['category'].replace(category_names['category_name'], inplace=True)"
   ]
  },
  {
   "cell_type": "markdown",
   "id": "706cd822-da7c-4e04-803f-f50facec273a",
   "metadata": {},
   "source": [
    "## *Spotify*"
   ]
  },
  {
   "cell_type": "markdown",
   "id": "7b83712e-0912-4de5-917c-562f8d650580",
   "metadata": {},
   "source": [
    "Agora vamos tratar a base de dados do Spotify, no qual temos dados do período de julho de 2020 a julho de 2021."
   ]
  },
  {
   "cell_type": "code",
   "execution_count": 750,
   "id": "5319915b-26cf-4266-a164-f2f7dc2e0f1f",
   "metadata": {},
   "outputs": [],
   "source": [
    "df_sptfy = pd.read_json('Desktop/processo-ifood/case-ifood/spotify/StreamingHistory0.json')"
   ]
  },
  {
   "cell_type": "code",
   "execution_count": 751,
   "id": "f3da84d5-31f9-4aa7-8e4b-720e75efd0cb",
   "metadata": {},
   "outputs": [
    {
     "name": "stdout",
     "output_type": "stream",
     "text": [
      "<class 'pandas.core.frame.DataFrame'>\n",
      "RangeIndex: 3838 entries, 0 to 3837\n",
      "Data columns (total 4 columns):\n",
      " #   Column      Non-Null Count  Dtype \n",
      "---  ------      --------------  ----- \n",
      " 0   endTime     3838 non-null   object\n",
      " 1   artistName  3838 non-null   object\n",
      " 2   trackName   3838 non-null   object\n",
      " 3   msPlayed    3838 non-null   int64 \n",
      "dtypes: int64(1), object(3)\n",
      "memory usage: 120.1+ KB\n"
     ]
    }
   ],
   "source": [
    "df_sptfy.info()"
   ]
  },
  {
   "cell_type": "code",
   "execution_count": 752,
   "id": "f156a07b-3f6b-44c9-89ef-f79699f85e2b",
   "metadata": {},
   "outputs": [],
   "source": [
    "# convertendo o timestamp para datetime\n",
    "df_sptfy['endTime'] = pd.to_datetime(df_sptfy['endTime'])"
   ]
  },
  {
   "cell_type": "code",
   "execution_count": 753,
   "id": "3f90fb3a-bd40-449d-8224-c4702f7eed0c",
   "metadata": {},
   "outputs": [],
   "source": [
    "# convertendo a coluna de milisegundos para minutos\n",
    "df_sptfy['minutesPlayed'] = df_sptfy['msPlayed']/60000"
   ]
  },
  {
   "cell_type": "code",
   "execution_count": 754,
   "id": "e7cecb59-6480-43d8-ae66-0ba8ef30361c",
   "metadata": {},
   "outputs": [],
   "source": [
    "df_sptfy.drop(columns='msPlayed', inplace=True)"
   ]
  },
  {
   "cell_type": "markdown",
   "id": "a34bc8a8-bd1e-4f50-93d4-7374d017f243",
   "metadata": {},
   "source": [
    "# Análise Exploratória dos Dados"
   ]
  },
  {
   "cell_type": "markdown",
   "id": "1e238e01-c3b2-4b3d-8d36-87c855f88932",
   "metadata": {},
   "source": [
    "Agora chegou a hora de explorarmos os dados! A Análise Exploratória será conduzida seguindo os períodos de:\n",
    "\n",
    "- **2009 a 2013**: um período que corresponde à minha transição entre o Ensino Fundamental e Ensino Médio.\n",
    "- **2013 a 2019**: um período que corresponde ao período que estive na universidade.\n",
    "- **2020 a 2021**: um período que corresponde não somente a pandemia, mas ao momento que vivo agora! :-)\n",
    "\n",
    "Vamos lá!"
   ]
  },
  {
   "cell_type": "markdown",
   "id": "8edf666c-2e07-4c0d-aafa-2650b88f679e",
   "metadata": {},
   "source": [
    "#### AED: Período de 2009 a 2013"
   ]
  },
  {
   "cell_type": "markdown",
   "id": "2d26cb13-fbf6-487a-884c-3a2932e6d5ea",
   "metadata": {},
   "source": [
    "Para esse primeiro momento, conseguimos observar que o período com maior número de tweets se refere ao ano de 2009, meu primeiro ano na rede social. Porém, percebemos uma queda no ano seguinte (2010), que foi exatamente quando entrei no Ensino Médio. "
   ]
  },
  {
   "cell_type": "code",
   "execution_count": 755,
   "id": "5e15683a-f5d5-4e4c-87a2-05a3829c8278",
   "metadata": {},
   "outputs": [
    {
     "data": {
      "text/html": [
       "<div>\n",
       "<style scoped>\n",
       "    .dataframe tbody tr th:only-of-type {\n",
       "        vertical-align: middle;\n",
       "    }\n",
       "\n",
       "    .dataframe tbody tr th {\n",
       "        vertical-align: top;\n",
       "    }\n",
       "\n",
       "    .dataframe thead th {\n",
       "        text-align: right;\n",
       "    }\n",
       "</style>\n",
       "<table border=\"1\" class=\"dataframe\">\n",
       "  <thead>\n",
       "    <tr style=\"text-align: right;\">\n",
       "      <th></th>\n",
       "      <th>index</th>\n",
       "      <th>year</th>\n",
       "    </tr>\n",
       "  </thead>\n",
       "  <tbody>\n",
       "    <tr>\n",
       "      <th>0</th>\n",
       "      <td>2009</td>\n",
       "      <td>3441</td>\n",
       "    </tr>\n",
       "    <tr>\n",
       "      <th>2</th>\n",
       "      <td>2010</td>\n",
       "      <td>1153</td>\n",
       "    </tr>\n",
       "    <tr>\n",
       "      <th>3</th>\n",
       "      <td>2011</td>\n",
       "      <td>988</td>\n",
       "    </tr>\n",
       "    <tr>\n",
       "      <th>1</th>\n",
       "      <td>2012</td>\n",
       "      <td>2080</td>\n",
       "    </tr>\n",
       "    <tr>\n",
       "      <th>4</th>\n",
       "      <td>2013</td>\n",
       "      <td>575</td>\n",
       "    </tr>\n",
       "  </tbody>\n",
       "</table>\n",
       "</div>"
      ],
      "text/plain": [
       "   index  year\n",
       "0   2009  3441\n",
       "2   2010  1153\n",
       "3   2011   988\n",
       "1   2012  2080\n",
       "4   2013   575"
      ]
     },
     "execution_count": 755,
     "metadata": {},
     "output_type": "execute_result"
    }
   ],
   "source": [
    "# Número de tweets por ano\n",
    "df_2009_2013['year'] = df_2009_2013['time'].dt.year\n",
    "tweets_2009_2013 = df_2009_2013['year'].value_counts()\n",
    "tweets_2009_2013 = pd.DataFrame(tweets_2009_2013)\n",
    "tweets_2009_2013.reset_index().sort_values(by='index', ascending=True)"
   ]
  },
  {
   "cell_type": "code",
   "execution_count": 756,
   "id": "445587b2-51dc-4aaf-bbad-4f907dfad019",
   "metadata": {},
   "outputs": [
    {
     "data": {
      "text/plain": [
       "8237"
      ]
     },
     "execution_count": 756,
     "metadata": {},
     "output_type": "execute_result"
    }
   ],
   "source": [
    "# Quanto eu twittei nesses 4 anos?\n",
    "tweets_2009_2013['year'].sum()"
   ]
  },
  {
   "cell_type": "markdown",
   "id": "3b610d7f-e364-4cac-99a4-1a666a1edb62",
   "metadata": {},
   "source": [
    "Quais foram as palavras mais recorrentes nesse período?"
   ]
  },
  {
   "cell_type": "code",
   "execution_count": 757,
   "id": "e5703e0b-7465-4533-87f6-04171ecbb7c6",
   "metadata": {},
   "outputs": [],
   "source": [
    "# Função para plotar os histogramas das palavras mais utilizadas nos tweets\n",
    "def plot_barra_nlp(x, y, cor, titulo):\n",
    "    fig, axs = plt.subplots(1, figsize=(6, 5))\n",
    "    axs.barh(x, y, color=cor, edgecolor='black')\n",
    "\n",
    "    # Centraliza e mostra o valor das barras\n",
    "    for index, value in enumerate(y):\n",
    "        plt.text(value + 0.1, index, str(value), ha='left', va='center', fontsize=14)\n",
    "\n",
    "    # Rotação dos valores do eixo x\n",
    "    plt.xticks(fontsize=12)\n",
    "    plt.yticks(fontsize=12)\n",
    "\n",
    "    # Títulos dos eixos x e y\n",
    "    plt.xlabel('Palavras', fontsize=12)\n",
    "    plt.ylabel('Frequência', fontsize=12)\n",
    "\n",
    "    # Título do gráfico\n",
    "    fig.suptitle(titulo, y = 0.9, fontsize=16, ha='center', va='baseline')\n",
    "\n",
    "    plt.gca().invert_yaxis()\n",
    "    \n",
    "x_nlp_2009_2013 = nlp_2009_2013['index'][0:10]\n",
    "y_nlp_2009_2013 = nlp_2009_2013['tweet'][0:10]"
   ]
  },
  {
   "cell_type": "markdown",
   "id": "12f064e6-6ebb-48c7-a9c2-fa32e9003720",
   "metadata": {},
   "source": [
    "Visualização das palavras mais recorrentes entre 2009 e 2013"
   ]
  },
  {
   "cell_type": "code",
   "execution_count": 758,
   "id": "71d9fb44-d65f-4b3b-8170-6c7be218f0ee",
   "metadata": {
    "tags": []
   },
   "outputs": [
    {
     "data": {
      "image/png": "[encoded data removed]",
      "text/plain": [
       "<Figure size 432x360 with 1 Axes>"
      ]
     },
     "metadata": {
      "needs_background": "light"
     },
     "output_type": "display_data"
    }
   ],
   "source": [
    "plot_barra_nlp(x_nlp_2009_2013, y_nlp_2009_2013, 'lightskyblue', 'Período entre 2009 e 2013')"
   ]
  },
  {
   "cell_type": "markdown",
   "id": "3ee16540-96e8-4a6a-9895-dd3609543b9b",
   "metadata": {},
   "source": [
    "Quais foram os artistas mais ouvidos segundo o *bot* do Last.fm?"
   ]
  },
  {
   "cell_type": "code",
   "execution_count": 759,
   "id": "75380905-7a83-46f0-b785-5af04518e259",
   "metadata": {},
   "outputs": [],
   "source": [
    "# Agrupando pelos artistas e somar a frequência em que aparecem\n",
    "lastfm_2009_2013 = lastfm_2009_2013.groupby(['artistas']).sum()\n",
    "lastfm_2009_2013 = lastfm_2009_2013.sort_values(by='contagem', ascending=False)\n",
    "lastfm_2009_2013 = lastfm_2009_2013.reset_index()"
   ]
  },
  {
   "cell_type": "code",
   "execution_count": 760,
   "id": "78e01c16-fa6a-445e-a500-57b5959c7d12",
   "metadata": {},
   "outputs": [],
   "source": [
    "# Função para plotar os histogramas dos artistas mais ouvidos\n",
    "def plot_barra_artistas(x, y, cor, titulo):\n",
    "    fig, axs = plt.subplots(1, figsize=(8, 5))\n",
    "    axs.bar(x, y, color=cor, edgecolor='black')\n",
    "\n",
    "    # Centraliza e mostra o valor das barras\n",
    "    for index, value in enumerate(y):\n",
    "        plt.text(index, value + 0.5, str(value), ha='center', va='bottom', fontsize=14)\n",
    "\n",
    "    # Rotação dos valores do eixo x\n",
    "    plt.xticks(rotation=30, ha='right', fontsize=12)\n",
    "    plt.yticks(fontsize=12)\n",
    "\n",
    "    # Títulos dos eixos x e y\n",
    "    plt.xlabel('Artistas', fontsize=12)\n",
    "    plt.ylabel('Quantidade de músicas tocadas por artista', fontsize=12)\n",
    "\n",
    "    # Título do gráfico\n",
    "    fig.suptitle(titulo, y = 0.9, fontsize=16, ha='center', va='baseline')\n",
    "\n",
    "    plt.show()\n",
    "    \n",
    "x_lastfm_2009_2013 = lastfm_2009_2013['artistas'][0:10]\n",
    "y_lastfm_2009_2013 = lastfm_2009_2013['contagem'][0:10]"
   ]
  },
  {
   "cell_type": "code",
   "execution_count": 761,
   "id": "c3445527-0d02-4c90-81f7-b7d0d63667c5",
   "metadata": {
    "tags": []
   },
   "outputs": [
    {
     "data": {
      "image/png": "[encoded data removed]",
      "text/plain": [
       "<Figure size 576x360 with 1 Axes>"
      ]
     },
     "metadata": {
      "needs_background": "light"
     },
     "output_type": "display_data"
    }
   ],
   "source": [
    "plot_barra_artistas(x_lastfm_2009_2013, y_lastfm_2009_2013, 'lightskyblue', 'LastFM 2009-2013')"
   ]
  },
  {
   "cell_type": "markdown",
   "id": "88c0df5c-56ef-4e92-9587-8e78192bed32",
   "metadata": {},
   "source": [
    "#### AED: Período de 2013 a 2019"
   ]
  },
  {
   "cell_type": "markdown",
   "id": "d791125f-959f-4353-b104-485e25405e92",
   "metadata": {},
   "source": [
    "Para esse período percebemos que o ano de 2013 e 2014 foram os anos com maior número de *tweets*, a partir de 2015, a postagem de *tweets* cai para muito mais da metade, chegando em 2019 com o total de 43 tweets no ano."
   ]
  },
  {
   "cell_type": "code",
   "execution_count": 762,
   "id": "064b48e1-b6ea-4a92-94c4-5d8588692f4b",
   "metadata": {
    "tags": []
   },
   "outputs": [
    {
     "data": {
      "text/html": [
       "<div>\n",
       "<style scoped>\n",
       "    .dataframe tbody tr th:only-of-type {\n",
       "        vertical-align: middle;\n",
       "    }\n",
       "\n",
       "    .dataframe tbody tr th {\n",
       "        vertical-align: top;\n",
       "    }\n",
       "\n",
       "    .dataframe thead th {\n",
       "        text-align: right;\n",
       "    }\n",
       "</style>\n",
       "<table border=\"1\" class=\"dataframe\">\n",
       "  <thead>\n",
       "    <tr style=\"text-align: right;\">\n",
       "      <th></th>\n",
       "      <th>index</th>\n",
       "      <th>year</th>\n",
       "    </tr>\n",
       "  </thead>\n",
       "  <tbody>\n",
       "    <tr>\n",
       "      <th>1</th>\n",
       "      <td>2013</td>\n",
       "      <td>1082</td>\n",
       "    </tr>\n",
       "    <tr>\n",
       "      <th>0</th>\n",
       "      <td>2014</td>\n",
       "      <td>1258</td>\n",
       "    </tr>\n",
       "    <tr>\n",
       "      <th>5</th>\n",
       "      <td>2015</td>\n",
       "      <td>213</td>\n",
       "    </tr>\n",
       "    <tr>\n",
       "      <th>2</th>\n",
       "      <td>2016</td>\n",
       "      <td>376</td>\n",
       "    </tr>\n",
       "    <tr>\n",
       "      <th>3</th>\n",
       "      <td>2017</td>\n",
       "      <td>367</td>\n",
       "    </tr>\n",
       "    <tr>\n",
       "      <th>4</th>\n",
       "      <td>2018</td>\n",
       "      <td>236</td>\n",
       "    </tr>\n",
       "    <tr>\n",
       "      <th>6</th>\n",
       "      <td>2019</td>\n",
       "      <td>43</td>\n",
       "    </tr>\n",
       "  </tbody>\n",
       "</table>\n",
       "</div>"
      ],
      "text/plain": [
       "   index  year\n",
       "1   2013  1082\n",
       "0   2014  1258\n",
       "5   2015   213\n",
       "2   2016   376\n",
       "3   2017   367\n",
       "4   2018   236\n",
       "6   2019    43"
      ]
     },
     "execution_count": 762,
     "metadata": {},
     "output_type": "execute_result"
    }
   ],
   "source": [
    "# Número de tweets por ano\n",
    "df_2013_2019['year'] = df_2013_2019['time'].dt.year\n",
    "tweets_2013_2019 = df_2013_2019['year'].value_counts()\n",
    "tweets_2013_2019 = pd.DataFrame(tweets_2013_2019)\n",
    "tweets_2013_2019.reset_index().sort_values(by='index', ascending=True)"
   ]
  },
  {
   "cell_type": "code",
   "execution_count": 763,
   "id": "9b2736cd-34b5-4ee1-beb0-96378929c595",
   "metadata": {},
   "outputs": [
    {
     "data": {
      "text/plain": [
       "3575"
      ]
     },
     "execution_count": 763,
     "metadata": {},
     "output_type": "execute_result"
    }
   ],
   "source": [
    "# Quanto eu twittei nesses 7 anos?\n",
    "tweets_2013_2019['year'].sum()"
   ]
  },
  {
   "cell_type": "markdown",
   "id": "f7eb78e0-889b-4485-a7ed-e389f497f33d",
   "metadata": {},
   "source": [
    "##### Quais foram as palavras mais recorrentes nesse período?"
   ]
  },
  {
   "cell_type": "code",
   "execution_count": 764,
   "id": "6923e91b-7951-4c4d-9f06-0aa07fa5410c",
   "metadata": {},
   "outputs": [],
   "source": [
    "x_nlp_2013_2019 = nlp_2013_2019['index'][0:10]\n",
    "y_nlp_2013_2019 = nlp_2013_2019['tweet'][0:10]"
   ]
  },
  {
   "cell_type": "markdown",
   "id": "619dadc2-2526-457b-83b1-d5e781d76ff5",
   "metadata": {},
   "source": [
    "##### Visualização das palavras mais recorrentes entre 2013 e 2019"
   ]
  },
  {
   "cell_type": "code",
   "execution_count": 765,
   "id": "cdc62e08-38f6-4d75-879c-e92944f04bff",
   "metadata": {
    "tags": []
   },
   "outputs": [
    {
     "data": {
      "image/png": "[encoded data removed]",
      "text/plain": [
       "<Figure size 432x360 with 1 Axes>"
      ]
     },
     "metadata": {
      "needs_background": "light"
     },
     "output_type": "display_data"
    }
   ],
   "source": [
    "plot_barra_nlp(x_nlp_2013_2019, y_nlp_2013_2019, 'lightskyblue', 'Período entre 2013 e 2019')"
   ]
  },
  {
   "cell_type": "markdown",
   "id": "744d854d-cc4e-49ec-83e2-58b01d12604f",
   "metadata": {},
   "source": [
    "##### Quais foram os artistas mais ouvidos segundo o *bot* do Last.fm?"
   ]
  },
  {
   "cell_type": "code",
   "execution_count": 766,
   "id": "98d47214-c77b-4c56-886e-a92f70d8dcc4",
   "metadata": {},
   "outputs": [],
   "source": [
    "# Agrupar pelos artistas e somar a frequência em que aparecem\n",
    "lastfm_2013_2019 = lastfm_2013_2019.groupby(['artistas']).sum()\n",
    "lastfm_2013_2019 = lastfm_2013_2019.sort_values(by='contagem', ascending=False)\n",
    "lastfm_2013_2019 = lastfm_2013_2019.reset_index()"
   ]
  },
  {
   "cell_type": "code",
   "execution_count": 767,
   "id": "707da49d-f936-4cee-b562-53ca230ea7e5",
   "metadata": {},
   "outputs": [],
   "source": [
    "x_lastfm_2013_2019 = lastfm_2013_2019['artistas'][0:10]\n",
    "y_lastfm_2013_2019 = lastfm_2013_2019['contagem'][0:10]"
   ]
  },
  {
   "cell_type": "markdown",
   "id": "ab90ee09-ae16-4873-af3f-f220f17ec072",
   "metadata": {},
   "source": [
    "##### Visualização dos artistas mais recorrentes entre 2013 e 2019"
   ]
  },
  {
   "cell_type": "code",
   "execution_count": 768,
   "id": "4a189894-df69-455c-a803-3b26f942d9fd",
   "metadata": {
    "tags": []
   },
   "outputs": [
    {
     "data": {
      "image/png": "[encoded data removed]",
      "text/plain": [
       "<Figure size 576x360 with 1 Axes>"
      ]
     },
     "metadata": {
      "needs_background": "light"
     },
     "output_type": "display_data"
    }
   ],
   "source": [
    "plot_barra_artistas(x_lastfm_2013_2019, y_lastfm_2013_2019, 'lightskyblue', 'LastFM 2013-2019')"
   ]
  },
  {
   "cell_type": "markdown",
   "id": "563971c3-eb94-473e-921a-cb90df194e52",
   "metadata": {},
   "source": [
    "##### Quais foram as categorias e canais mais visualizados no YouTube entre 2014 e 2019?"
   ]
  },
  {
   "cell_type": "code",
   "execution_count": 769,
   "id": "c2a5b6fd-a0da-4b34-a7f4-a43ae4267337",
   "metadata": {
    "tags": []
   },
   "outputs": [],
   "source": [
    "# transformando a coluna de 'time' para ano\n",
    "df_yt['year'] = df_yt['time'].dt.year\n",
    "\n",
    "#selecionando somente o período de 2014-2019\n",
    "yt_2014_2019 = df_yt.loc[(df_yt['year'] >= 2014) & (df_yt['year'] <= 2019)]"
   ]
  },
  {
   "cell_type": "code",
   "execution_count": 771,
   "id": "0fea41e9-8c60-469f-b7f0-fe2b76136d96",
   "metadata": {},
   "outputs": [],
   "source": [
    "# Função para plotar os gráficos de barras verticais das categorias e canais mais vistos\n",
    "def plot_barra_youtube(x, y, cor, titulo, titulo_x, fonte_x):\n",
    "    fig, axs = plt.subplots(1, figsize=(8, 8))\n",
    "    axs.bar(x, y, color=cor, edgecolor='black')\n",
    "\n",
    "    # Centraliza e mostra o valor das barras\n",
    "    for index, value in enumerate(y):\n",
    "        plt.text(index, value, str(value), ha='center', va='bottom', fontsize=14)\n",
    "\n",
    "    # Rotação dos valores do eixo x\n",
    "    plt.xticks(rotation=30, ha='right', fontsize=fonte_x)\n",
    "    plt.yticks(fontsize=12)\n",
    "\n",
    "    # Títulos dos eixos x e y\n",
    "    plt.xlabel(titulo_x, fontsize=12)\n",
    "    plt.ylabel('Quantidade de acessos', fontsize=12)\n",
    "\n",
    "    # Título do gráfico\n",
    "    fig.suptitle(titulo, y = 0.9, fontsize=12, ha='center', va='baseline')\n",
    "\n",
    "    plt.show()"
   ]
  },
  {
   "cell_type": "code",
   "execution_count": 773,
   "id": "d9ea849f-adf1-4259-9fb7-97fd281af7a0",
   "metadata": {},
   "outputs": [],
   "source": [
    "# Função para plotar os gráficos de barra horizontais dos titulos mais vistos\n",
    "def plot_barrah_youtube(x, y, cor, titulo, fonte_x):\n",
    "    fig, axs = plt.subplots(1, figsize=(8, 5))\n",
    "    axs.barh(x, y, color=cor, edgecolor='black')\n",
    "\n",
    "    # Centraliza e mostra o valor das barras\n",
    "    for index, value in enumerate(y):\n",
    "        plt.text(value + 0.1, index, str(value), ha='left', va='center', fontsize=14)\n",
    "\n",
    "    # Rotação dos valores do eixo x\n",
    "    plt.xticks(fontsize=fonte_x)\n",
    "    plt.yticks(fontsize=12)\n",
    "\n",
    "    # Títulos dos eixos x e y\n",
    "    plt.xlabel('Títulos', fontsize=12)\n",
    "    plt.ylabel('Quantidade de acessos', fontsize=12)\n",
    "\n",
    "    # Título do gráfico\n",
    "    fig.suptitle(titulo, y = 0.9, fontsize=20, ha='center', va='baseline')\n",
    "\n",
    "    plt.gca().invert_yaxis()"
   ]
  },
  {
   "cell_type": "code",
   "execution_count": 774,
   "id": "8a247c5d-e0a3-4955-875d-e25c774b4aaa",
   "metadata": {},
   "outputs": [],
   "source": [
    "categorias_2014_2019 = yt_2014_2019['category'].value_counts()\n",
    "canais_2014_2019 = yt_2014_2019['channelName'].value_counts()\n",
    "titulos_2014_2019 = yt_2014_2019['title'].value_counts()\n",
    "\n",
    "categorias_2014_2019 = pd.DataFrame({'categoria':categorias_2014_2019.index, 'contagem':categorias_2014_2019.values})\n",
    "canais_2014_2019 = pd.DataFrame({'canal':canais_2014_2019.index, 'contagem':canais_2014_2019.values})\n",
    "titulos_2014_2019 = pd.DataFrame({'titulo':titulos_2014_2019.index, 'contagem':titulos_2014_2019.values})"
   ]
  },
  {
   "cell_type": "code",
   "execution_count": 775,
   "id": "72a32e01-703d-4bd7-9d37-eb0f3065d642",
   "metadata": {},
   "outputs": [],
   "source": [
    "x_categ_2014_2019 = categorias_2014_2019['categoria'][0:10]\n",
    "y_categ_2014_2019 = categorias_2014_2019['contagem'][0:10]\n",
    "\n",
    "x_canais_2014_2019 = canais_2014_2019['canal'][0:10]\n",
    "y_canais_2014_2019 = canais_2014_2019['contagem'][0:10]\n",
    "\n",
    "x_titulos_2014_2019 = titulos_2014_2019['titulo'][0:10]\n",
    "y_titulos_2014_2019 = titulos_2014_2019['contagem'][0:10]"
   ]
  },
  {
   "cell_type": "markdown",
   "id": "12df9ae8-fdf1-4fa7-80a5-b364e264c6d3",
   "metadata": {},
   "source": [
    "##### Quais foram os títulos mais visualizados no YouTube entre 2014 e 2019?"
   ]
  },
  {
   "cell_type": "code",
   "execution_count": 776,
   "id": "1e12b7cd-7d3e-4310-9c5f-4df386efd4da",
   "metadata": {},
   "outputs": [
    {
     "data": {
      "image/png": "[encoded data removed]",
      "text/plain": [
       "<Figure size 576x576 with 1 Axes>"
      ]
     },
     "metadata": {
      "needs_background": "light"
     },
     "output_type": "display_data"
    }
   ],
   "source": [
    "plot_barra_youtube(x_categ_2014_2019, y_categ_2014_2019, 'lightskyblue', 'Categorias mais ouvidas entre 2014 e 2019', 'Categorias', 15)"
   ]
  },
  {
   "cell_type": "code",
   "execution_count": 777,
   "id": "5378d143-ab9c-47c3-9c54-5fec044bc2d4",
   "metadata": {},
   "outputs": [
    {
     "data": {
      "image/png": "[encoded data removed]",
      "text/plain": [
       "<Figure size 576x576 with 1 Axes>"
      ]
     },
     "metadata": {
      "needs_background": "light"
     },
     "output_type": "display_data"
    }
   ],
   "source": [
    "plot_barra_youtube(x_canais_2014_2019, y_canais_2014_2019, 'lightskyblue', 'Canais mais ouvidas entre 2014 e 2019', 'Canal', 15)"
   ]
  },
  {
   "cell_type": "code",
   "execution_count": 778,
   "id": "feaf410a-d7fe-4149-96f5-5d2df7fa3cdd",
   "metadata": {},
   "outputs": [
    {
     "data": {
      "image/png": "[encoded data removed]",
      "text/plain": [
       "<Figure size 576x360 with 1 Axes>"
      ]
     },
     "metadata": {
      "needs_background": "light"
     },
     "output_type": "display_data"
    }
   ],
   "source": [
    "plot_barrah_youtube(x_titulos_2014_2019, y_titulos_2014_2019, 'lightskyblue', 'Títulos mais ouvidas entre 2014 e 2019', 12)"
   ]
  },
  {
   "cell_type": "markdown",
   "id": "c72017ad-fe5b-4d2d-9d1e-0c1aed7d2e29",
   "metadata": {},
   "source": [
    "#### AED: Período de 2020 a 2021"
   ]
  },
  {
   "cell_type": "markdown",
   "id": "fc43a661-486b-412c-90bd-cdaab332880b",
   "metadata": {},
   "source": [
    "Quando comparamos com outros períodos, percebemos que esse foi o período com menor número de *tweets* postados, em relação aos outros 10 anos, com o total de 79 *tweets*."
   ]
  },
  {
   "cell_type": "code",
   "execution_count": 779,
   "id": "3cf11882-81af-4adc-9d08-7904c8f81606",
   "metadata": {
    "tags": []
   },
   "outputs": [
    {
     "data": {
      "text/html": [
       "<div>\n",
       "<style scoped>\n",
       "    .dataframe tbody tr th:only-of-type {\n",
       "        vertical-align: middle;\n",
       "    }\n",
       "\n",
       "    .dataframe tbody tr th {\n",
       "        vertical-align: top;\n",
       "    }\n",
       "\n",
       "    .dataframe thead th {\n",
       "        text-align: right;\n",
       "    }\n",
       "</style>\n",
       "<table border=\"1\" class=\"dataframe\">\n",
       "  <thead>\n",
       "    <tr style=\"text-align: right;\">\n",
       "      <th></th>\n",
       "      <th>index</th>\n",
       "      <th>year</th>\n",
       "    </tr>\n",
       "  </thead>\n",
       "  <tbody>\n",
       "    <tr>\n",
       "      <th>0</th>\n",
       "      <td>2020</td>\n",
       "      <td>54</td>\n",
       "    </tr>\n",
       "    <tr>\n",
       "      <th>1</th>\n",
       "      <td>2021</td>\n",
       "      <td>25</td>\n",
       "    </tr>\n",
       "  </tbody>\n",
       "</table>\n",
       "</div>"
      ],
      "text/plain": [
       "   index  year\n",
       "0   2020    54\n",
       "1   2021    25"
      ]
     },
     "execution_count": 779,
     "metadata": {},
     "output_type": "execute_result"
    }
   ],
   "source": [
    "# Número de tweets por ano\n",
    "df_2020_2021['year'] = df_2020_2021['time'].dt.year\n",
    "tweets_2020_2021 = df_2020_2021['year'].value_counts()\n",
    "tweets_2020_2021 = pd.DataFrame(tweets_2020_2021)\n",
    "tweets_2020_2021.reset_index().sort_values(by='index', ascending=True)"
   ]
  },
  {
   "cell_type": "code",
   "execution_count": 780,
   "id": "31d6425c-d886-4030-a59a-1e7f821b2c05",
   "metadata": {},
   "outputs": [
    {
     "data": {
      "text/plain": [
       "79"
      ]
     },
     "execution_count": 780,
     "metadata": {},
     "output_type": "execute_result"
    }
   ],
   "source": [
    "# Quanto eu twittei nesses 2 anos?\n",
    "tweets_2020_2021['year'].sum()"
   ]
  },
  {
   "cell_type": "markdown",
   "id": "7adae732-f350-4f85-abe9-34863d3678f6",
   "metadata": {},
   "source": [
    "##### Quais foram as categorias e canais mais visualizados no YouTube entre 2020 e 2021?"
   ]
  },
  {
   "cell_type": "code",
   "execution_count": 782,
   "id": "4ad0f018-caeb-4ed4-b95f-ee233556c171",
   "metadata": {},
   "outputs": [],
   "source": [
    "#selecionando somente o período de 2014-2019\n",
    "yt_2020_2021 = df_yt.loc[(df_yt['year'] >= 2020) & (df_yt['year'] <= 2021)]\n",
    "\n",
    "categorias_2020_2021 = yt_2020_2021['category'].value_counts()\n",
    "canais_2020_2021 = yt_2020_2021['channelName'].value_counts()\n",
    "titulos_2020_2021 = yt_2020_2021['title'].value_counts()\n",
    "\n",
    "categorias_2020_2021 = pd.DataFrame({'categoria':categorias_2020_2021.index, 'contagem':categorias_2020_2021.values})\n",
    "canais_2020_2021 = pd.DataFrame({'canal':canais_2020_2021.index, 'contagem':canais_2020_2021.values})\n",
    "titulos_2020_2021 = pd.DataFrame({'titulo':titulos_2020_2021.index, 'contagem':titulos_2020_2021.values})"
   ]
  },
  {
   "cell_type": "code",
   "execution_count": 783,
   "id": "6196f450-1ca3-4782-98e1-da14b8124ac4",
   "metadata": {},
   "outputs": [],
   "source": [
    "x_categ_2020_2021 = categorias_2020_2021['categoria'][0:10]\n",
    "y_categ_2020_2021 = categorias_2020_2021['contagem'][0:10]\n",
    "\n",
    "x_canais_2020_2021 = canais_2020_2021['canal'][0:10]\n",
    "y_canais_2020_2021 = canais_2020_2021['contagem'][0:10]\n",
    "\n",
    "x_titulos_2020_2021 = titulos_2020_2021['titulo'][0:10]\n",
    "y_titulos_2020_2021 = titulos_2020_2021['contagem'][0:10]"
   ]
  },
  {
   "cell_type": "markdown",
   "id": "bb558bfb-56b4-40ee-92be-8b31d69c368a",
   "metadata": {},
   "source": [
    "##### Quais foram as categorias  mais visualizadas no YouTube entre 2020 e 2021?"
   ]
  },
  {
   "cell_type": "code",
   "execution_count": 784,
   "id": "bfcf0ec5-0304-4122-bbaa-19806b9c3ab9",
   "metadata": {},
   "outputs": [
    {
     "data": {
      "image/png": "[encoded data removed]",
      "text/plain": [
       "<Figure size 576x576 with 1 Axes>"
      ]
     },
     "metadata": {
      "needs_background": "light"
     },
     "output_type": "display_data"
    }
   ],
   "source": [
    "plot_barra_youtube(x_categ_2020_2021, y_categ_2020_2021, 'lightskyblue', 'Categorias mais ouvidas entre 2020 e 2021', 'Categorias', 15)"
   ]
  },
  {
   "cell_type": "markdown",
   "id": "663e4405-0d54-4155-bb9b-13a9a26b8fd2",
   "metadata": {},
   "source": [
    "##### Quais foram os canais mais visualizados no YouTube entre 2020 e 2021?"
   ]
  },
  {
   "cell_type": "code",
   "execution_count": 787,
   "id": "8ef40bc7-b0a7-4aac-b932-37af0821d3b7",
   "metadata": {},
   "outputs": [
    {
     "data": {
      "image/png": "[encoded data removed]",
      "text/plain": [
       "<Figure size 576x576 with 1 Axes>"
      ]
     },
     "metadata": {
      "needs_background": "light"
     },
     "output_type": "display_data"
    }
   ],
   "source": [
    "plot_barra_youtube(x_canais_2020_2021, y_canais_2020_2021, 'lightskyblue', 'Canais mais ouvidos entre 2020 e 2021', 'Canal', 15)"
   ]
  },
  {
   "cell_type": "markdown",
   "id": "9760ea5e-5080-4e25-8c12-867aa8d2a3c8",
   "metadata": {},
   "source": [
    "##### Quais foram os títulos mais visualizados no YouTube entre 2020 e 2021?"
   ]
  },
  {
   "cell_type": "code",
   "execution_count": 788,
   "id": "459c181f-040f-4654-bb62-268b6ab706a3",
   "metadata": {},
   "outputs": [
    {
     "data": {
      "image/png": "[encoded data removed]",
      "text/plain": [
       "<Figure size 576x360 with 1 Axes>"
      ]
     },
     "metadata": {
      "needs_background": "light"
     },
     "output_type": "display_data"
    }
   ],
   "source": [
    "plot_barrah_youtube(x_titulos_2020_2021, y_titulos_2020_2021, 'lightskyblue', 'Títulos mais ouvidos entre 2020 e 2021', 12)"
   ]
  },
  {
   "cell_type": "markdown",
   "id": "08a18987-533d-443f-98b4-71e9fd147583",
   "metadata": {},
   "source": [
    "##### Quais foram os artistas mais ouvidos no Spotify entre 2020 e 2021?"
   ]
  },
  {
   "cell_type": "code",
   "execution_count": 789,
   "id": "5cb39806-8f66-4b05-b7d9-fc55946fea74",
   "metadata": {},
   "outputs": [],
   "source": [
    "# Contar a frequência em que os artistas aparecem e ordená-los em ordem decrescente\n",
    "spotify_freq = df_sptfy['artistName'].value_counts().sort_values(ascending=False)\n",
    "spotify_freq = pd.DataFrame({'artistas':spotify_freq.index, 'contagem':spotify_freq.values})\n",
    "\n",
    "\n",
    "x_spotify = spotify_freq['artistas'][0:10]\n",
    "y_spotify = spotify_freq['contagem'][0:10]"
   ]
  },
  {
   "cell_type": "code",
   "execution_count": 790,
   "id": "feb1170c-b5f6-4977-89af-5cbe995dc1ba",
   "metadata": {
    "tags": []
   },
   "outputs": [
    {
     "data": {
      "image/png": "[encoded data removed]",
      "text/plain": [
       "<Figure size 576x360 with 1 Axes>"
      ]
     },
     "metadata": {
      "needs_background": "light"
     },
     "output_type": "display_data"
    }
   ],
   "source": [
    "plot_barra_artistas(x_spotify, y_spotify, 'lightskyblue', 'Spotify 2020-2021')"
   ]
  },
  {
   "cell_type": "code",
   "execution_count": null,
   "id": "9043ee75-e5c3-4fcf-9269-c18188d9d581",
   "metadata": {},
   "outputs": [],
   "source": []
  }
 ],
 "metadata": {
  "kernelspec": {
   "display_name": "Python 3",
   "language": "python",
   "name": "python3"
  },
  "language_info": {
   "codemirror_mode": {
    "name": "ipython",
    "version": 3
   },
   "file_extension": ".py",
   "mimetype": "text/x-python",
   "name": "python",
   "nbconvert_exporter": "python",
   "pygments_lexer": "ipython3",
   "version": "3.8.8"
  }
 },
 "nbformat": 4,
 "nbformat_minor": 5
}
